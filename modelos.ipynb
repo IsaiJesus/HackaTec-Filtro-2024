{
 "cells": [
  {
   "cell_type": "markdown",
   "id": "1582e85e-29ee-46ee-b737-1b5081e022e6",
   "metadata": {},
   "source": [
    "# **1. Carga de datos**"
   ]
  },
  {
   "cell_type": "code",
   "execution_count": 3,
   "id": "76cad41d-4085-477c-91b5-51f26d51e652",
   "metadata": {},
   "outputs": [],
   "source": [
    "import pandas as pd\n",
    "import matplotlib.pyplot as plt"
   ]
  },
  {
   "cell_type": "code",
   "execution_count": 4,
   "id": "35d67f57-ed8d-463b-81bc-94741a9e1c57",
   "metadata": {},
   "outputs": [],
   "source": [
    "df_train = pd.read_csv('./respuestas_cleaned.csv')"
   ]
  },
  {
   "cell_type": "code",
   "execution_count": 5,
   "id": "eec12b81-3c3e-4a5a-98b4-aa9ccfa5c895",
   "metadata": {},
   "outputs": [
    {
     "data": {
      "text/html": [
       "<div>\n",
       "<style scoped>\n",
       "    .dataframe tbody tr th:only-of-type {\n",
       "        vertical-align: middle;\n",
       "    }\n",
       "\n",
       "    .dataframe tbody tr th {\n",
       "        vertical-align: top;\n",
       "    }\n",
       "\n",
       "    .dataframe thead th {\n",
       "        text-align: right;\n",
       "    }\n",
       "</style>\n",
       "<table border=\"1\" class=\"dataframe\">\n",
       "  <thead>\n",
       "    <tr style=\"text-align: right;\">\n",
       "      <th></th>\n",
       "      <th>Sexo</th>\n",
       "      <th>Edad</th>\n",
       "      <th>Fumador</th>\n",
       "      <th>dedos amarillos</th>\n",
       "      <th>Ansiedad</th>\n",
       "      <th>presion de grupo</th>\n",
       "      <th>enfermedad cronica</th>\n",
       "      <th>fatiga</th>\n",
       "      <th>Alergia</th>\n",
       "      <th>Sibilancias</th>\n",
       "      <th>Consumo Alcohol</th>\n",
       "      <th>Tos</th>\n",
       "      <th>Dificultad respirar</th>\n",
       "      <th>Dificultad tragar</th>\n",
       "      <th>Dolor en pecho</th>\n",
       "      <th>Cancer de pulmon</th>\n",
       "    </tr>\n",
       "  </thead>\n",
       "  <tbody>\n",
       "    <tr>\n",
       "      <th>0</th>\n",
       "      <td>1</td>\n",
       "      <td>57</td>\n",
       "      <td>1</td>\n",
       "      <td>1</td>\n",
       "      <td>2</td>\n",
       "      <td>2</td>\n",
       "      <td>1</td>\n",
       "      <td>1</td>\n",
       "      <td>2</td>\n",
       "      <td>1</td>\n",
       "      <td>2</td>\n",
       "      <td>2</td>\n",
       "      <td>2</td>\n",
       "      <td>2</td>\n",
       "      <td>2</td>\n",
       "      <td>1</td>\n",
       "    </tr>\n",
       "    <tr>\n",
       "      <th>1</th>\n",
       "      <td>1</td>\n",
       "      <td>82</td>\n",
       "      <td>2</td>\n",
       "      <td>2</td>\n",
       "      <td>2</td>\n",
       "      <td>2</td>\n",
       "      <td>1</td>\n",
       "      <td>1</td>\n",
       "      <td>2</td>\n",
       "      <td>2</td>\n",
       "      <td>2</td>\n",
       "      <td>1</td>\n",
       "      <td>1</td>\n",
       "      <td>2</td>\n",
       "      <td>1</td>\n",
       "      <td>1</td>\n",
       "    </tr>\n",
       "    <tr>\n",
       "      <th>2</th>\n",
       "      <td>1</td>\n",
       "      <td>44</td>\n",
       "      <td>1</td>\n",
       "      <td>1</td>\n",
       "      <td>2</td>\n",
       "      <td>2</td>\n",
       "      <td>2</td>\n",
       "      <td>1</td>\n",
       "      <td>2</td>\n",
       "      <td>1</td>\n",
       "      <td>1</td>\n",
       "      <td>1</td>\n",
       "      <td>1</td>\n",
       "      <td>2</td>\n",
       "      <td>2</td>\n",
       "      <td>1</td>\n",
       "    </tr>\n",
       "    <tr>\n",
       "      <th>3</th>\n",
       "      <td>1</td>\n",
       "      <td>29</td>\n",
       "      <td>1</td>\n",
       "      <td>1</td>\n",
       "      <td>1</td>\n",
       "      <td>2</td>\n",
       "      <td>1</td>\n",
       "      <td>1</td>\n",
       "      <td>2</td>\n",
       "      <td>2</td>\n",
       "      <td>2</td>\n",
       "      <td>2</td>\n",
       "      <td>1</td>\n",
       "      <td>1</td>\n",
       "      <td>1</td>\n",
       "      <td>0</td>\n",
       "    </tr>\n",
       "    <tr>\n",
       "      <th>4</th>\n",
       "      <td>1</td>\n",
       "      <td>41</td>\n",
       "      <td>1</td>\n",
       "      <td>1</td>\n",
       "      <td>2</td>\n",
       "      <td>1</td>\n",
       "      <td>2</td>\n",
       "      <td>1</td>\n",
       "      <td>2</td>\n",
       "      <td>1</td>\n",
       "      <td>1</td>\n",
       "      <td>1</td>\n",
       "      <td>2</td>\n",
       "      <td>1</td>\n",
       "      <td>1</td>\n",
       "      <td>1</td>\n",
       "    </tr>\n",
       "  </tbody>\n",
       "</table>\n",
       "</div>"
      ],
      "text/plain": [
       "   Sexo  Edad  Fumador  dedos amarillos  Ansiedad  presion de grupo  \\\n",
       "0     1    57        1                1         2                 2   \n",
       "1     1    82        2                2         2                 2   \n",
       "2     1    44        1                1         2                 2   \n",
       "3     1    29        1                1         1                 2   \n",
       "4     1    41        1                1         2                 1   \n",
       "\n",
       "   enfermedad cronica  fatiga  Alergia  Sibilancias  Consumo Alcohol  Tos  \\\n",
       "0                   1       1        2            1                2    2   \n",
       "1                   1       1        2            2                2    1   \n",
       "2                   2       1        2            1                1    1   \n",
       "3                   1       1        2            2                2    2   \n",
       "4                   2       1        2            1                1    1   \n",
       "\n",
       "   Dificultad respirar  Dificultad tragar  Dolor en pecho  Cancer de pulmon  \n",
       "0                    2                  2               2                 1  \n",
       "1                    1                  2               1                 1  \n",
       "2                    1                  2               2                 1  \n",
       "3                    1                  1               1                 0  \n",
       "4                    2                  1               1                 1  "
      ]
     },
     "execution_count": 5,
     "metadata": {},
     "output_type": "execute_result"
    }
   ],
   "source": [
    "df_train.head()"
   ]
  },
  {
   "cell_type": "markdown",
   "id": "441e5c13-9ecc-4769-af68-930a44bc352b",
   "metadata": {},
   "source": [
    "# **2. Asignación de variables para los modelos**"
   ]
  },
  {
   "cell_type": "markdown",
   "id": "199c4405-12e4-4394-88d9-1b6785133bbd",
   "metadata": {},
   "source": [
    "Debido a que en la exploración de datos no se encontró ningún patrón entre las variables, los modelos se harán con todas las variables en general para predecir el comportamiento del target que es la variable **Cancer de pulmon**."
   ]
  },
  {
   "cell_type": "code",
   "execution_count": 6,
   "id": "a67b755a-cc36-4be8-b2d2-771d75fa09da",
   "metadata": {},
   "outputs": [
    {
     "name": "stdout",
     "output_type": "stream",
     "text": [
      "(10000,) (10000, 15)\n"
     ]
    }
   ],
   "source": [
    "# Variable target\n",
    "y = df_train['Cancer de pulmon']\n",
    "\n",
    "# Variables independientes\n",
    "# X = df_train[['Ansiedad', 'Sibilancias', 'Fumador', 'presion de grupo']]\n",
    "X = df_train.drop('Cancer de pulmon', axis = 1)\n",
    "print(y.shape, X.shape)"
   ]
  },
  {
   "cell_type": "code",
   "execution_count": 7,
   "id": "86ef6c1c-dd2e-4fb5-82d3-5b5b515c59f3",
   "metadata": {},
   "outputs": [],
   "source": [
    "from sklearn.model_selection import train_test_split\n",
    "\n",
    "X_train, X_test, y_train, y_test, = train_test_split(X, y, test_size = 0.10, random_state = 42)"
   ]
  },
  {
   "cell_type": "markdown",
   "id": "28272303-1208-4c72-b72f-36833034c5f5",
   "metadata": {},
   "source": [
    "# **3. Modelos**"
   ]
  },
  {
   "cell_type": "markdown",
   "id": "2c7fa970-ee35-4d35-9f63-7a762f964a8b",
   "metadata": {},
   "source": [
    "Para la prueba de modelos se escogieron los siguientes:\n",
    "1. Logistic Regression\n",
    "2. Decision Tree Classifier\n",
    "3. Random Forest\n",
    "4. XGBOOST\n",
    "5. LightGBM"
   ]
  },
  {
   "cell_type": "markdown",
   "id": "23c2c745-bb32-43d8-bc2f-4bd5ad6a3b75",
   "metadata": {},
   "source": [
    "Debido a que al usar estos modelos con paramétros por default, se buscará la mejor hiperparámetrización por Cross Validation."
   ]
  },
  {
   "cell_type": "code",
   "execution_count": 8,
   "id": "1ecea80c-6df9-4f85-90e3-95e5e7c097a3",
   "metadata": {},
   "outputs": [],
   "source": [
    "from sklearn.model_selection import cross_val_score, RandomizedSearchCV\n",
    "from sklearn.metrics import accuracy_score, confusion_matrix, f1_score\n",
    "import warnings\n",
    "warnings.filterwarnings('ignore')"
   ]
  },
  {
   "cell_type": "markdown",
   "id": "aae2e9b6-7ec5-49e1-9756-76f4700bcca6",
   "metadata": {},
   "source": [
    "### **1. Logistic Regression**"
   ]
  },
  {
   "cell_type": "code",
   "execution_count": 9,
   "id": "0f8768c7-144f-48b0-83c7-23e0360daeb5",
   "metadata": {},
   "outputs": [],
   "source": [
    "from sklearn.linear_model import LogisticRegression\n",
    "\n",
    "logreg = LogisticRegression()\n",
    "# logreg.fit(X_train, y_train)"
   ]
  },
  {
   "cell_type": "code",
   "execution_count": 10,
   "id": "4066c097-9857-4d52-a66b-6bdcd34c5147",
   "metadata": {},
   "outputs": [],
   "source": [
    "logreg_params = {\n",
    "    'penalty': ['l1', 'l2', 'elasticnet'],\n",
    "    'C': [0.001, 0.01, 0.1, 1, 10, 100],\n",
    "    'solver': ['lbfgs', 'liblinear', 'newton-cg', 'newton-cholesky', 'sag', 'saga'],\n",
    "    'max_iter': [100, 200, 300, 400, 500],\n",
    "    'class_weight': [None, 'balanced'],\n",
    "    'random_state': [42]\n",
    "}"
   ]
  },
  {
   "cell_type": "code",
   "execution_count": 11,
   "id": "f4ec6b08-2b7a-4a3e-8104-a528010fcaf5",
   "metadata": {},
   "outputs": [
    {
     "name": "stdout",
     "output_type": "stream",
     "text": [
      "[0.44799354 0.49495381        nan 0.50368124 0.50368384 0.49495381\n",
      " 0.50342946        nan 0.33696772        nan]\n"
     ]
    }
   ],
   "source": [
    "search_obj = RandomizedSearchCV(logreg, param_distributions = logreg_params, cv = 5, scoring = 'f1_macro')\n",
    "fit_obj = search_obj.fit(X_train, y_train)\n",
    "print(fit_obj.cv_results_['mean_test_score'])\n",
    "best_model_logreg = fit_obj.best_estimator_"
   ]
  },
  {
   "cell_type": "code",
   "execution_count": 12,
   "id": "b0f756b7-3cc2-443f-bce9-05d654d36eea",
   "metadata": {},
   "outputs": [
    {
     "name": "stdout",
     "output_type": "stream",
     "text": [
      "Train:  0.5134444444444445\n",
      "Test:  0.499\n"
     ]
    }
   ],
   "source": [
    "best_model_logreg.fit(X_train, y_train)\n",
    "print(\"Train: \", best_model_logreg.score(X_train, y_train))\n",
    "print(\"Test: \", best_model_logreg.score(X_test, y_test))"
   ]
  },
  {
   "cell_type": "code",
   "execution_count": 13,
   "id": "3be19823-f740-45ac-95b5-93ef24baa57f",
   "metadata": {},
   "outputs": [],
   "source": [
    "y_pred_logreg = best_model_logreg.predict(X_test)"
   ]
  },
  {
   "cell_type": "code",
   "execution_count": 14,
   "id": "bc466c52-a107-49c2-a9cc-ae05733ec0c2",
   "metadata": {},
   "outputs": [],
   "source": [
    "accuracy = accuracy_score(y_test, y_pred_logreg)\n",
    "conf_matrix = confusion_matrix(y_test, y_pred_logreg)\n",
    "f1 = f1_score(y_test, y_pred_logreg, average='weighted')"
   ]
  },
  {
   "cell_type": "code",
   "execution_count": 15,
   "id": "906fd8ed-e88f-44e2-ab1e-534c70787d96",
   "metadata": {},
   "outputs": [
    {
     "name": "stdout",
     "output_type": "stream",
     "text": [
      "Accuracy: 0.499\n",
      "F1 Score: 0.49900450936525853\n",
      "Confusion Matrix:\n",
      " [[254 251]\n",
      " [250 245]]\n"
     ]
    }
   ],
   "source": [
    "print(\"Accuracy:\", accuracy)\n",
    "print(\"F1 Score:\", f1)\n",
    "print(\"Confusion Matrix:\\n\", conf_matrix)"
   ]
  },
  {
   "cell_type": "markdown",
   "id": "0003a627-3286-46ed-9ea3-a2bc3d16c6af",
   "metadata": {},
   "source": [
    "### **2. Decision Tree Classifier**"
   ]
  },
  {
   "cell_type": "code",
   "execution_count": 16,
   "id": "839a3bc6-9f1b-4030-8a05-a247082321c2",
   "metadata": {},
   "outputs": [],
   "source": [
    "from sklearn.tree import DecisionTreeClassifier\n",
    "\n",
    "tree = DecisionTreeClassifier()\n",
    "# tree.fit(X_train, y_train)logreg_params"
   ]
  },
  {
   "cell_type": "code",
   "execution_count": 17,
   "id": "8e2c38ad-ac3b-4eb3-ba83-657c6489440c",
   "metadata": {},
   "outputs": [],
   "source": [
    "tree_params = {\n",
    "    'max_depth': [None, 1, 2, 3, 4, 5],\n",
    "    'criterion': ['gini', 'entropy'],\n",
    "    'splitter': ['best', 'random'],\n",
    "    'min_samples_split': [2, 5, 10],\n",
    "    'min_samples_leaf': [1, 2, 4],\n",
    "    'max_features': ['auto', 'sqrt', 'log2', None],\n",
    "    'class_weight': [None, 'balanced'],\n",
    "    'random_state': [42]\n",
    "}"
   ]
  },
  {
   "cell_type": "code",
   "execution_count": 18,
   "id": "78ddcf2a-c80a-4c4f-8e16-c09d4b7a17eb",
   "metadata": {},
   "outputs": [
    {
     "name": "stdout",
     "output_type": "stream",
     "text": [
      "[0.49505905 0.49832614 0.44742862 0.50574798 0.36792371 0.49811329\n",
      " 0.50626981 0.49505905 0.50066591 0.49991688]\n"
     ]
    }
   ],
   "source": [
    "search_obj = RandomizedSearchCV(tree, param_distributions = tree_params, cv = 5, scoring = 'f1_macro')\n",
    "fit_obj = search_obj.fit(X_train, y_train)\n",
    "print(fit_obj.cv_results_['mean_test_score'])\n",
    "best_model_tree = fit_obj.best_estimator_"
   ]
  },
  {
   "cell_type": "code",
   "execution_count": 19,
   "id": "a5e7a21e-21fa-4a0a-92b2-a1acea3e4b84",
   "metadata": {},
   "outputs": [
    {
     "name": "stdout",
     "output_type": "stream",
     "text": [
      "Train:  0.5102222222222222\n",
      "Test:  0.507\n"
     ]
    }
   ],
   "source": [
    "best_model_tree.fit(X_train, y_train)\n",
    "print(\"Train: \", best_model_tree.score(X_train, y_train))\n",
    "print(\"Test: \", best_model_tree.score(X_test, y_test))"
   ]
  },
  {
   "cell_type": "code",
   "execution_count": 20,
   "id": "a61b418a-2eac-4682-a15f-2f0015789bb8",
   "metadata": {},
   "outputs": [],
   "source": [
    "y_pred_tree = best_model_tree.predict(X_test)"
   ]
  },
  {
   "cell_type": "code",
   "execution_count": 21,
   "id": "80f5b6d7-5d8c-4caf-8551-2aa896d3db34",
   "metadata": {},
   "outputs": [],
   "source": [
    "accuracy = accuracy_score(y_test, y_pred_tree)\n",
    "conf_matrix = confusion_matrix(y_test, y_pred_tree)\n",
    "f1 = f1_score(y_test, y_pred_tree, average='weighted')"
   ]
  },
  {
   "cell_type": "code",
   "execution_count": 22,
   "id": "c2832448-45c1-495d-8b8f-fbe9c3bebd94",
   "metadata": {},
   "outputs": [
    {
     "name": "stdout",
     "output_type": "stream",
     "text": [
      "Accuracy: 0.507\n",
      "F1 Score: 0.5070103535073218\n",
      "Confusion Matrix:\n",
      " [[257 248]\n",
      " [245 250]]\n"
     ]
    }
   ],
   "source": [
    "print(\"Accuracy:\", accuracy)\n",
    "print(\"F1 Score:\", f1)\n",
    "print(\"Confusion Matrix:\\n\", conf_matrix)"
   ]
  },
  {
   "cell_type": "markdown",
   "id": "efcb87d1-92ab-4dad-a7a2-c6c77644f4b2",
   "metadata": {},
   "source": [
    "### **3. Random Forest**"
   ]
  },
  {
   "cell_type": "code",
   "execution_count": 23,
   "id": "508fa5d5-b794-492f-8797-339dbfa25fc4",
   "metadata": {},
   "outputs": [],
   "source": [
    "from sklearn.ensemble import RandomForestClassifier\n",
    "\n",
    "random_forest = RandomForestClassifier()"
   ]
  },
  {
   "cell_type": "code",
   "execution_count": 24,
   "id": "549580b3-ae8a-4bb9-a9f2-98d00cf1a54b",
   "metadata": {},
   "outputs": [],
   "source": [
    "random_forest_params = {\n",
    "    'n_estimators': [50, 100, 200, 300],\n",
    "    'criterion': ['gini', 'entropy'],\n",
    "    'max_depth': [None, 10, 20, 30],\n",
    "    'min_samples_split': [2, 5, 10],\n",
    "    'min_samples_leaf': [1, 2, 4],\n",
    "    'max_features': ['auto', 'sqrt', 'log2'],\n",
    "    'bootstrap': [True, False],\n",
    "    'class_weight': [None, 'balanced'],\n",
    "    'random_state': [42]\n",
    "}"
   ]
  },
  {
   "cell_type": "code",
   "execution_count": 25,
   "id": "673dad5d-7fa6-48b8-b780-3b42e6b7ba8e",
   "metadata": {},
   "outputs": [
    {
     "name": "stdout",
     "output_type": "stream",
     "text": [
      "[0.49854646 0.50027737 0.5077912  0.5085482  0.50296596 0.50241644\n",
      " 0.50193668 0.50027737 0.49917658 0.49509403]\n"
     ]
    }
   ],
   "source": [
    "search_obj = RandomizedSearchCV(random_forest, param_distributions = random_forest_params, cv = 5, scoring = 'f1_macro')\n",
    "fit_obj = search_obj.fit(X_train, y_train)\n",
    "print(fit_obj.cv_results_['mean_test_score'])\n",
    "best_model_random_forest = fit_obj.best_estimator_"
   ]
  },
  {
   "cell_type": "code",
   "execution_count": 26,
   "id": "de0e50b9-52e0-43b7-930e-72e280b7b79c",
   "metadata": {},
   "outputs": [
    {
     "name": "stdout",
     "output_type": "stream",
     "text": [
      "Train:  0.9916666666666667\n",
      "Test:  0.486\n"
     ]
    }
   ],
   "source": [
    "best_model_random_forest.fit(X_train, y_train)\n",
    "print(\"Train: \", best_model_random_forest.score(X_train, y_train))\n",
    "print(\"Test: \", best_model_random_forest.score(X_test, y_test))"
   ]
  },
  {
   "cell_type": "code",
   "execution_count": 27,
   "id": "0083875e-7b53-4f63-8278-f9a2b089eb5f",
   "metadata": {},
   "outputs": [],
   "source": [
    "y_pred_random_forest = best_model_random_forest.predict(X_test)"
   ]
  },
  {
   "cell_type": "code",
   "execution_count": 28,
   "id": "abab974c-38a5-4e64-8822-53c22cb8ed95",
   "metadata": {},
   "outputs": [],
   "source": [
    "accuracy = accuracy_score(y_test, y_pred_random_forest)\n",
    "conf_matrix = confusion_matrix(y_test, y_pred_random_forest)\n",
    "f1 = f1_score(y_test, y_pred_random_forest, average='weighted')"
   ]
  },
  {
   "cell_type": "code",
   "execution_count": 29,
   "id": "74019837-73f7-4c34-8eb6-5d61c325ec76",
   "metadata": {},
   "outputs": [
    {
     "name": "stdout",
     "output_type": "stream",
     "text": [
      "Accuracy: 0.486\n",
      "F1 Score: 0.4856379687768881\n",
      "Confusion Matrix:\n",
      " [[232 273]\n",
      " [241 254]]\n"
     ]
    }
   ],
   "source": [
    "print(\"Accuracy:\", accuracy)\n",
    "print(\"F1 Score:\", f1)\n",
    "print(\"Confusion Matrix:\\n\", conf_matrix)"
   ]
  },
  {
   "cell_type": "markdown",
   "id": "12ae9848-3f83-4143-8103-a855f747be9b",
   "metadata": {},
   "source": [
    "### **4. XGBOOST**"
   ]
  },
  {
   "cell_type": "code",
   "execution_count": 203,
   "id": "38285ac9-cfee-4c0f-aaf7-66e654fd5919",
   "metadata": {},
   "outputs": [
    {
     "name": "stdout",
     "output_type": "stream",
     "text": [
      "Requirement already satisfied: xgboost in c:\\users\\isaij\\anaconda3\\lib\\site-packages (2.0.3)\n",
      "Requirement already satisfied: numpy in c:\\users\\isaij\\anaconda3\\lib\\site-packages (from xgboost) (1.26.4)\n",
      "Requirement already satisfied: scipy in c:\\users\\isaij\\anaconda3\\lib\\site-packages (from xgboost) (1.11.4)\n",
      "Note: you may need to restart the kernel to use updated packages.\n"
     ]
    }
   ],
   "source": [
    "pip install xgboost"
   ]
  },
  {
   "cell_type": "code",
   "execution_count": 30,
   "id": "cb6455a5-79ba-4189-9143-c92c2590d871",
   "metadata": {},
   "outputs": [],
   "source": [
    "from xgboost import XGBClassifier\n",
    "\n",
    "xgb_classifier = XGBClassifier()\n",
    "# xgb_classifier.fit(X_train, y_train)"
   ]
  },
  {
   "cell_type": "code",
   "execution_count": 31,
   "id": "077d044f-7985-4978-8b2e-ea6bff5b0a58",
   "metadata": {},
   "outputs": [],
   "source": [
    "xgboost_params = {\n",
    "    'max_depth': [3, 4, 5, 6, 7],\n",
    "    'learning_rate': [0.01, 0.05, 0.1, 0.3],\n",
    "    'n_estimators': [50, 100, 200, 300],\n",
    "    'min_child_weight': [1, 3, 5, 7],\n",
    "    'gamma': [0, 0.1, 0.2, 0.3, 0.4],\n",
    "    'subsample': [0.6, 0.7, 0.8, 0.9, 1.0],\n",
    "    'colsample_bytree': [0.6, 0.7, 0.8, 0.9, 1.0],\n",
    "    'reg_alpha': [0, 0.1, 0.5, 1, 10],\n",
    "    'reg_lambda': [0, 0.1, 0.5, 1, 10],\n",
    "    'scale_pos_weight': [1, 2, 3, 4, 5],\n",
    "    'random_state': [42]\n",
    "}"
   ]
  },
  {
   "cell_type": "code",
   "execution_count": 32,
   "id": "dfe1c8aa-a68f-4e6c-8082-0beaf19fd111",
   "metadata": {},
   "outputs": [
    {
     "name": "stdout",
     "output_type": "stream",
     "text": [
      "[0.35243004 0.33691886 0.50141518 0.33696772 0.33696772 0.33696772\n",
      " 0.33831848 0.33816939 0.33696772 0.33696772]\n"
     ]
    }
   ],
   "source": [
    "search_obj = RandomizedSearchCV(xgb_classifier, param_distributions = xgboost_params, cv = 5, scoring = 'f1_macro')\n",
    "fit_obj = search_obj.fit(X_train, y_train)\n",
    "print(fit_obj.cv_results_['mean_test_score'])\n",
    "best_model_xgb = fit_obj.best_estimator_"
   ]
  },
  {
   "cell_type": "code",
   "execution_count": 33,
   "id": "dc47474d-9fb7-4cca-a7f0-d58be39a9f3a",
   "metadata": {},
   "outputs": [
    {
     "name": "stdout",
     "output_type": "stream",
     "text": [
      "Train:  0.7314444444444445\n",
      "Test:  0.5\n"
     ]
    }
   ],
   "source": [
    "best_model_xgb.fit(X_train, y_train)\n",
    "print(\"Train: \", best_model_xgb.score(X_train, y_train))\n",
    "print(\"Test: \", best_model_xgb.score(X_test, y_test))"
   ]
  },
  {
   "cell_type": "code",
   "execution_count": 34,
   "id": "a7ffdc8d-69bc-44fc-9395-a6af12598f2f",
   "metadata": {},
   "outputs": [],
   "source": [
    "y_pred_xgb = best_model_xgb.predict(X_test)"
   ]
  },
  {
   "cell_type": "code",
   "execution_count": 35,
   "id": "55c70105-c039-456c-b296-2a227848312c",
   "metadata": {},
   "outputs": [],
   "source": [
    "accuracy = accuracy_score(y_test, y_pred_xgb)\n",
    "conf_matrix = confusion_matrix(y_test, y_pred_xgb)\n",
    "f1 = f1_score(y_test, y_pred_xgb, average='weighted')"
   ]
  },
  {
   "cell_type": "code",
   "execution_count": 36,
   "id": "e615532b-738b-4fcb-9652-8785cfe5c6b1",
   "metadata": {},
   "outputs": [
    {
     "name": "stdout",
     "output_type": "stream",
     "text": [
      "Accuracy: 0.5\n",
      "F1 Score: 0.4991709255194733\n",
      "Confusion Matrix:\n",
      " [[232 273]\n",
      " [227 268]]\n"
     ]
    }
   ],
   "source": [
    "print(\"Accuracy:\", accuracy)\n",
    "print(\"F1 Score:\", f1)\n",
    "print(\"Confusion Matrix:\\n\", conf_matrix)"
   ]
  },
  {
   "cell_type": "markdown",
   "id": "0bf8b63e-4fc1-4272-abe2-16c0fb1292b9",
   "metadata": {},
   "source": [
    "### **5. LightGBM**"
   ]
  },
  {
   "cell_type": "code",
   "execution_count": 37,
   "id": "b0b1cfaf-708c-46a7-8bc1-456428a3918f",
   "metadata": {},
   "outputs": [],
   "source": [
    "from sklearn.ensemble import HistGradientBoostingClassifier\n",
    "\n",
    "hist_gradient_boosting = HistGradientBoostingClassifier()\n",
    "# hist_gradient_boosting.fit(X_train, y_train)"
   ]
  },
  {
   "cell_type": "code",
   "execution_count": 38,
   "id": "14ed8a2f-328e-4a29-b55e-4370b86d87f4",
   "metadata": {},
   "outputs": [],
   "source": [
    "lightgbm_params = {\n",
    "    'boosting_type': ['gbdt', 'dart', 'goss'],\n",
    "    'num_leaves': [20, 30, 40, 50],\n",
    "    'max_depth': [-1, 3, 5, 7],\n",
    "    'learning_rate': [0.01, 0.05, 0.1],\n",
    "    'n_estimators': [50, 100, 200, 300],\n",
    "    'subsample': [0.6, 0.7, 0.8, 0.9, 1.0],\n",
    "    'colsample_bytree': [0.6, 0.7, 0.8, 0.9, 1.0],\n",
    "    'reg_alpha': [0, 0.1, 0.5, 1, 10],\n",
    "    'reg_lambda': [0, 0.1, 0.5, 1, 10],\n",
    "    'min_child_samples': [5, 10, 15, 20],\n",
    "    'random_state': [42]\n",
    "}"
   ]
  },
  {
   "cell_type": "code",
   "execution_count": 39,
   "id": "37592e5f-3fc0-4ff7-900f-5ed0f1f38f39",
   "metadata": {},
   "outputs": [
    {
     "name": "stdout",
     "output_type": "stream",
     "text": [
      "[0.44020934 0.50466904 0.33696772 0.33696772 0.33777138 0.36093817\n",
      " 0.50690919 0.34480125 0.33696772 0.33696772]\n"
     ]
    }
   ],
   "source": [
    "search_obj = RandomizedSearchCV(xgb_classifier, param_distributions = xgboost_params, cv = 5, scoring = 'f1_macro')\n",
    "fit_obj = search_obj.fit(X_train, y_train)\n",
    "print(fit_obj.cv_results_['mean_test_score'])\n",
    "best_model_light_gbm = fit_obj.best_estimator_"
   ]
  },
  {
   "cell_type": "code",
   "execution_count": 40,
   "id": "b35b19a5-62ad-41e0-8740-a1868e1f26e3",
   "metadata": {},
   "outputs": [
    {
     "name": "stdout",
     "output_type": "stream",
     "text": [
      "Train:  0.5877777777777777\n",
      "Test:  0.486\n"
     ]
    }
   ],
   "source": [
    "best_model_light_gbm.fit(X_train, y_train)\n",
    "print(\"Train: \", best_model_light_gbm.score(X_train, y_train))\n",
    "print(\"Test: \", best_model_light_gbm.score(X_test, y_test))"
   ]
  },
  {
   "cell_type": "code",
   "execution_count": 41,
   "id": "decb5ea2-b8cc-486e-a82a-6f19789db28e",
   "metadata": {},
   "outputs": [],
   "source": [
    "y_pred_light_gbm = best_model_light_gbm.predict(X_test)"
   ]
  },
  {
   "cell_type": "code",
   "execution_count": 42,
   "id": "c3f4ca0f-e227-47e5-8395-ed9094c45831",
   "metadata": {},
   "outputs": [],
   "source": [
    "accuracy = accuracy_score(y_test, y_pred_light_gbm)\n",
    "conf_matrix = confusion_matrix(y_test, y_pred_light_gbm)\n",
    "f1 = f1_score(y_test, y_pred_light_gbm, average='weighted')"
   ]
  },
  {
   "cell_type": "code",
   "execution_count": 43,
   "id": "8b5857d3-b3c5-4dc9-961c-8e6c266f25d8",
   "metadata": {},
   "outputs": [
    {
     "name": "stdout",
     "output_type": "stream",
     "text": [
      "Accuracy: 0.486\n",
      "F1 Score: 0.48278738371321356\n",
      "Confusion Matrix:\n",
      " [[206 299]\n",
      " [215 280]]\n"
     ]
    }
   ],
   "source": [
    "print(\"Accuracy:\", accuracy)\n",
    "print(\"F1 Score:\", f1)\n",
    "print(\"Confusion Matrix:\\n\", conf_matrix)"
   ]
  },
  {
   "cell_type": "markdown",
   "id": "5c686c07-5016-41f5-81bf-70a07bf6b336",
   "metadata": {},
   "source": [
    "A pesar de que en algunos de los modelos sale con un score bastante bueno para el train, no da buenos resultados para el test, por lo que el mejor modelo será el que tiene mejor score en test."
   ]
  },
  {
   "cell_type": "markdown",
   "id": "f050dadc-9583-4be7-820e-ad984c5a628f",
   "metadata": {},
   "source": [
    "Ahora, se hará la misma limpieza y conversión a los datos que con el dataset de *respuestas.csv*.\n",
    "Después de ello, se harán las predicciones con el modelo elegido."
   ]
  },
  {
   "cell_type": "markdown",
   "id": "9821183a-d02c-42ae-b491-fc18d70e9530",
   "metadata": {},
   "source": [
    "**Decision Tree** fue el que mejor evaluación tuvo con el test.\n",
    "Con un score de **0.512 en el train** y **0.507 en el test**."
   ]
  },
  {
   "cell_type": "markdown",
   "id": "2b2c8aec-1cd1-4691-967a-79d444c2f3c8",
   "metadata": {},
   "source": [
    "# **4. Limpieza de test_data**"
   ]
  },
  {
   "cell_type": "code",
   "execution_count": 44,
   "id": "efbf31d8-5276-4c4f-add3-f2d3c0b15e51",
   "metadata": {},
   "outputs": [],
   "source": [
    "import pandas as pd"
   ]
  },
  {
   "cell_type": "code",
   "execution_count": 45,
   "id": "845a3c29-d81c-4bd9-aa73-0a6d2f5d46c8",
   "metadata": {},
   "outputs": [],
   "source": [
    "df_test = pd.read_csv('./datasets/test_data.csv')"
   ]
  },
  {
   "cell_type": "code",
   "execution_count": 46,
   "id": "ebf2bae5-54c3-4dc0-98aa-6736857675f6",
   "metadata": {},
   "outputs": [
    {
     "data": {
      "text/html": [
       "<div>\n",
       "<style scoped>\n",
       "    .dataframe tbody tr th:only-of-type {\n",
       "        vertical-align: middle;\n",
       "    }\n",
       "\n",
       "    .dataframe tbody tr th {\n",
       "        vertical-align: top;\n",
       "    }\n",
       "\n",
       "    .dataframe thead th {\n",
       "        text-align: right;\n",
       "    }\n",
       "</style>\n",
       "<table border=\"1\" class=\"dataframe\">\n",
       "  <thead>\n",
       "    <tr style=\"text-align: right;\">\n",
       "      <th></th>\n",
       "      <th>Sexo</th>\n",
       "      <th>Fumador</th>\n",
       "      <th>dedos amarillos</th>\n",
       "      <th>Ansiedad</th>\n",
       "      <th>presion de grupo</th>\n",
       "      <th>enfermedad cronica</th>\n",
       "      <th>fatiga</th>\n",
       "      <th>Alergia</th>\n",
       "      <th>Sibilancias</th>\n",
       "      <th>Consumo Alcohol</th>\n",
       "      <th>Tos</th>\n",
       "      <th>Dificultad respirar</th>\n",
       "      <th>Dificultad tragar</th>\n",
       "      <th>Dolor en pecho</th>\n",
       "      <th>Edad</th>\n",
       "    </tr>\n",
       "  </thead>\n",
       "  <tbody>\n",
       "    <tr>\n",
       "      <th>0</th>\n",
       "      <td>F</td>\n",
       "      <td>2</td>\n",
       "      <td>2</td>\n",
       "      <td>2</td>\n",
       "      <td>2</td>\n",
       "      <td>2</td>\n",
       "      <td>2</td>\n",
       "      <td>1.0</td>\n",
       "      <td>1</td>\n",
       "      <td>2</td>\n",
       "      <td>1</td>\n",
       "      <td>2.0</td>\n",
       "      <td>2.0</td>\n",
       "      <td>1</td>\n",
       "      <td>83.0</td>\n",
       "    </tr>\n",
       "    <tr>\n",
       "      <th>1</th>\n",
       "      <td>M</td>\n",
       "      <td>1</td>\n",
       "      <td>2</td>\n",
       "      <td>2</td>\n",
       "      <td>2</td>\n",
       "      <td>1</td>\n",
       "      <td>1</td>\n",
       "      <td>1.0</td>\n",
       "      <td>2</td>\n",
       "      <td>2</td>\n",
       "      <td>2</td>\n",
       "      <td>2.0</td>\n",
       "      <td>2.0</td>\n",
       "      <td>1</td>\n",
       "      <td>71.0</td>\n",
       "    </tr>\n",
       "    <tr>\n",
       "      <th>2</th>\n",
       "      <td>F</td>\n",
       "      <td>2</td>\n",
       "      <td>2</td>\n",
       "      <td>2</td>\n",
       "      <td>1</td>\n",
       "      <td>2</td>\n",
       "      <td>1</td>\n",
       "      <td>1.0</td>\n",
       "      <td>1</td>\n",
       "      <td>1</td>\n",
       "      <td>2</td>\n",
       "      <td>1.0</td>\n",
       "      <td>1.0</td>\n",
       "      <td>2</td>\n",
       "      <td>65.0</td>\n",
       "    </tr>\n",
       "    <tr>\n",
       "      <th>3</th>\n",
       "      <td>F</td>\n",
       "      <td>1</td>\n",
       "      <td>1</td>\n",
       "      <td>1</td>\n",
       "      <td>1</td>\n",
       "      <td>2</td>\n",
       "      <td>1</td>\n",
       "      <td>2.0</td>\n",
       "      <td>1</td>\n",
       "      <td>1</td>\n",
       "      <td>2</td>\n",
       "      <td>2.0</td>\n",
       "      <td>1.0</td>\n",
       "      <td>1</td>\n",
       "      <td>69.0</td>\n",
       "    </tr>\n",
       "    <tr>\n",
       "      <th>4</th>\n",
       "      <td>F</td>\n",
       "      <td>1</td>\n",
       "      <td>1</td>\n",
       "      <td>1</td>\n",
       "      <td>1</td>\n",
       "      <td>1</td>\n",
       "      <td>1</td>\n",
       "      <td>1.0</td>\n",
       "      <td>1</td>\n",
       "      <td>1</td>\n",
       "      <td>1</td>\n",
       "      <td>2.0</td>\n",
       "      <td>2.0</td>\n",
       "      <td>1</td>\n",
       "      <td>55.0</td>\n",
       "    </tr>\n",
       "  </tbody>\n",
       "</table>\n",
       "</div>"
      ],
      "text/plain": [
       "  Sexo Fumador  dedos amarillos Ansiedad  presion de grupo enfermedad cronica  \\\n",
       "0    F       2                2        2                 2                  2   \n",
       "1    M       1                2        2                 2                  1   \n",
       "2    F       2                2        2                 1                  2   \n",
       "3    F       1                1        1                 1                  2   \n",
       "4    F       1                1        1                 1                  1   \n",
       "\n",
       "  fatiga  Alergia Sibilancias Consumo Alcohol Tos  Dificultad respirar  \\\n",
       "0      2      1.0           1               2   1                  2.0   \n",
       "1      1      1.0           2               2   2                  2.0   \n",
       "2      1      1.0           1               1   2                  1.0   \n",
       "3      1      2.0           1               1   2                  2.0   \n",
       "4      1      1.0           1               1   1                  2.0   \n",
       "\n",
       "   Dificultad tragar Dolor en pecho  Edad  \n",
       "0                2.0              1  83.0  \n",
       "1                2.0              1  71.0  \n",
       "2                1.0              2  65.0  \n",
       "3                1.0              1  69.0  \n",
       "4                2.0              1  55.0  "
      ]
     },
     "execution_count": 46,
     "metadata": {},
     "output_type": "execute_result"
    }
   ],
   "source": [
    "df_test.head()"
   ]
  },
  {
   "cell_type": "code",
   "execution_count": 47,
   "id": "192e98ec-1a41-4a2c-bcc6-e43041684198",
   "metadata": {},
   "outputs": [
    {
     "name": "stdout",
     "output_type": "stream",
     "text": [
      "<class 'pandas.core.frame.DataFrame'>\n",
      "RangeIndex: 1000 entries, 0 to 999\n",
      "Data columns (total 15 columns):\n",
      " #   Column               Non-Null Count  Dtype  \n",
      "---  ------               --------------  -----  \n",
      " 0   Sexo                 1000 non-null   object \n",
      " 1   Fumador              1000 non-null   object \n",
      " 2   dedos amarillos      1000 non-null   int64  \n",
      " 3   Ansiedad             1000 non-null   object \n",
      " 4   presion de grupo     1000 non-null   int64  \n",
      " 5   enfermedad cronica   999 non-null    object \n",
      " 6   fatiga               1000 non-null   object \n",
      " 7   Alergia              999 non-null    float64\n",
      " 8   Sibilancias          999 non-null    object \n",
      " 9   Consumo Alcohol      999 non-null    object \n",
      " 10  Tos                  999 non-null    object \n",
      " 11  Dificultad respirar  999 non-null    float64\n",
      " 12  Dificultad tragar    999 non-null    float64\n",
      " 13  Dolor en pecho       999 non-null    object \n",
      " 14  Edad                 999 non-null    float64\n",
      "dtypes: float64(4), int64(2), object(9)\n",
      "memory usage: 117.3+ KB\n"
     ]
    }
   ],
   "source": [
    "df_test.info()"
   ]
  },
  {
   "cell_type": "code",
   "execution_count": 48,
   "id": "4329eb00-b80b-49c5-a1af-fa13f5172153",
   "metadata": {},
   "outputs": [],
   "source": [
    "df_test['Edad'] = df_test['Edad'].replace('[^0-9]', '29', regex = True)\n",
    "df_test['Edad'].fillna('29', inplace = True)\n",
    "df_test['Edad'] = df_test['Edad'].astype(int)"
   ]
  },
  {
   "cell_type": "code",
   "execution_count": 49,
   "id": "e5897c6c-732e-44a1-ace4-052b8085bc5d",
   "metadata": {},
   "outputs": [],
   "source": [
    "df_test['Fumador'] = df_test['Fumador'].replace('[^12]', '2', regex = True)\n",
    "df_test['Fumador'] = df_test['Fumador'].astype(int)"
   ]
  },
  {
   "cell_type": "code",
   "execution_count": 50,
   "id": "3fbfdf3b-a781-4569-a6d6-22c2288c6908",
   "metadata": {},
   "outputs": [],
   "source": [
    "df_test['Ansiedad'] = df_test['Ansiedad'].replace('[^12]', '2', regex = True)\n",
    "df_test['Ansiedad'] = df_test['Ansiedad'].astype(int)"
   ]
  },
  {
   "cell_type": "code",
   "execution_count": 51,
   "id": "c5685378-c763-495d-8edf-cd6f604ac3b0",
   "metadata": {},
   "outputs": [],
   "source": [
    "df_test['enfermedad cronica'] = df_test['enfermedad cronica'].replace('[^12]', '1', regex = True)\n",
    "df_test['enfermedad cronica'].fillna('1', inplace = True)\n",
    "df_test['enfermedad cronica'] = df_test['enfermedad cronica'].astype(int)"
   ]
  },
  {
   "cell_type": "code",
   "execution_count": 52,
   "id": "ecc40952-8599-44a0-a14d-6dd4080c14c5",
   "metadata": {},
   "outputs": [],
   "source": [
    "df_test['fatiga'] = df_test['fatiga'].replace('[^12]', '1', regex = True)\n",
    "df_test['fatiga'] = df_test['fatiga'].astype(int)"
   ]
  },
  {
   "cell_type": "code",
   "execution_count": 53,
   "id": "496b036f-5a71-40af-a241-8208bb102bbd",
   "metadata": {},
   "outputs": [],
   "source": [
    "df_test['Alergia'] = df_test['Alergia'].replace('[^12]', '1', regex=True)\n",
    "df_test['Alergia'].fillna('1', inplace = True)\n",
    "df_test['Alergia'] = df_test['Alergia'].astype(int)"
   ]
  },
  {
   "cell_type": "code",
   "execution_count": 54,
   "id": "975177b1-2228-4e41-8e20-748e214c6798",
   "metadata": {},
   "outputs": [],
   "source": [
    "df_test['Sibilancias'] = df_test['Sibilancias'].replace('[^12]', '2', regex=True)\n",
    "df_test['Sibilancias'].fillna('2', inplace = True)\n",
    "df_test['Sibilancias'] = df_test['Sibilancias'].astype(int)"
   ]
  },
  {
   "cell_type": "code",
   "execution_count": 55,
   "id": "05c558ce-f5ca-485a-831a-8561424d4c0b",
   "metadata": {},
   "outputs": [],
   "source": [
    "df_test['Consumo Alcohol'] = df_test['Consumo Alcohol'].replace('[^12]', '1', regex=True)\n",
    "df_test['Consumo Alcohol'].fillna(1, inplace = True)\n",
    "df_test['Consumo Alcohol'] = df_test['Consumo Alcohol'].astype(int)"
   ]
  },
  {
   "cell_type": "code",
   "execution_count": 56,
   "id": "a625dd13-c4d2-45c3-9a65-5fa0c2e4bf7e",
   "metadata": {},
   "outputs": [],
   "source": [
    "df_test['Tos'] = df_test['Tos'].replace('[^12]', '1', regex=True)\n",
    "df_test['Tos'].fillna('1', inplace = True)\n",
    "df_test['Tos'] = df_test['Tos'].astype(int)"
   ]
  },
  {
   "cell_type": "code",
   "execution_count": 57,
   "id": "585503b0-e4e7-49d0-a133-fe3185f95db8",
   "metadata": {},
   "outputs": [],
   "source": [
    "df_test['Dificultad respirar'].fillna(1, inplace = True)\n",
    "df_test['Dificultad respirar'] = df_test['Dificultad respirar'].astype(int)"
   ]
  },
  {
   "cell_type": "code",
   "execution_count": 58,
   "id": "c3b768f8-b824-4a86-b223-3b826c791288",
   "metadata": {},
   "outputs": [],
   "source": [
    "df_test['Dificultad tragar'].fillna(1, inplace = True)\n",
    "df_test['Dificultad tragar'] = df_test['Dificultad tragar'].astype(int)"
   ]
  },
  {
   "cell_type": "code",
   "execution_count": 59,
   "id": "fca9bd12-c946-4f51-9df3-abeca87cd85b",
   "metadata": {},
   "outputs": [],
   "source": [
    "df_test['Dolor en pecho'] = df_test['Dolor en pecho'].replace('[^12]', '1', regex=True)\n",
    "df_test['Dolor en pecho'].fillna('1', inplace = True)\n",
    "df_test['Dolor en pecho'] = df_test['Dolor en pecho'].astype(int)"
   ]
  },
  {
   "cell_type": "code",
   "execution_count": 60,
   "id": "3cbf0094-359b-4e36-9f11-51e2adc62e0f",
   "metadata": {},
   "outputs": [],
   "source": [
    "df_test['Sexo'] = df_test['Sexo'].map({'M': 1, 'F': 0}).astype(int)"
   ]
  },
  {
   "cell_type": "code",
   "execution_count": 61,
   "id": "61dafd74-5329-460f-a04d-0c43b8bc8408",
   "metadata": {},
   "outputs": [
    {
     "name": "stdout",
     "output_type": "stream",
     "text": [
      "<class 'pandas.core.frame.DataFrame'>\n",
      "RangeIndex: 1000 entries, 0 to 999\n",
      "Data columns (total 15 columns):\n",
      " #   Column               Non-Null Count  Dtype\n",
      "---  ------               --------------  -----\n",
      " 0   Sexo                 1000 non-null   int32\n",
      " 1   Fumador              1000 non-null   int32\n",
      " 2   dedos amarillos      1000 non-null   int64\n",
      " 3   Ansiedad             1000 non-null   int32\n",
      " 4   presion de grupo     1000 non-null   int64\n",
      " 5   enfermedad cronica   1000 non-null   int32\n",
      " 6   fatiga               1000 non-null   int32\n",
      " 7   Alergia              1000 non-null   int32\n",
      " 8   Sibilancias          1000 non-null   int32\n",
      " 9   Consumo Alcohol      1000 non-null   int32\n",
      " 10  Tos                  1000 non-null   int32\n",
      " 11  Dificultad respirar  1000 non-null   int32\n",
      " 12  Dificultad tragar    1000 non-null   int32\n",
      " 13  Dolor en pecho       1000 non-null   int32\n",
      " 14  Edad                 1000 non-null   int32\n",
      "dtypes: int32(13), int64(2)\n",
      "memory usage: 66.5 KB\n"
     ]
    }
   ],
   "source": [
    "df_test.info()"
   ]
  },
  {
   "cell_type": "code",
   "execution_count": 62,
   "id": "b0b13832-c481-4833-8b9e-e1c487694b0b",
   "metadata": {},
   "outputs": [],
   "source": [
    "X = df_test[['Sexo', 'Edad', 'Fumador', 'dedos amarillos', 'Ansiedad', \n",
    "    'presion de grupo', 'enfermedad cronica', 'fatiga', 'Alergia', \n",
    "    'Sibilancias', 'Consumo Alcohol', 'Tos', 'Dificultad respirar', \n",
    "    'Dificultad tragar', 'Dolor en pecho']]\n",
    "y_pred = best_model_tree.predict(X)"
   ]
  },
  {
   "cell_type": "code",
   "execution_count": 63,
   "id": "3a6b44f4-fa9c-41d0-9435-691a13f721a4",
   "metadata": {},
   "outputs": [
    {
     "name": "stdout",
     "output_type": "stream",
     "text": [
      "[0 0 0 1 1 0 0 1 1 1 0 0 1 0 1 0 0 1 1 1]\n"
     ]
    }
   ],
   "source": [
    "print(y_pred[0:20])"
   ]
  },
  {
   "cell_type": "code",
   "execution_count": 417,
   "id": "fdab51dd-63a6-4e1f-90b4-005342831cb0",
   "metadata": {},
   "outputs": [],
   "source": [
    "output = pd.Series(y_pred, name = 'Cancer de pulmon')\n",
    "output = output.map({1: 'YES', 0: 'NO'}).astype(object)\n",
    "output.to_csv('test_data_pred.csv', index = False)"
   ]
  },
  {
   "cell_type": "code",
   "execution_count": 89,
   "id": "d3a9dec8",
   "metadata": {},
   "outputs": [],
   "source": [
    "from joblib import dump, load"
   ]
  },
  {
   "cell_type": "code",
   "execution_count": 93,
   "id": "bb5dc890",
   "metadata": {},
   "outputs": [
    {
     "data": {
      "text/plain": [
       "['best_model_tree.joblib']"
      ]
     },
     "execution_count": 93,
     "metadata": {},
     "output_type": "execute_result"
    }
   ],
   "source": [
    "dump(best_model_tree, 'best_model_tree.joblib')"
   ]
  }
 ],
 "metadata": {
  "kernelspec": {
   "display_name": "Python 3 (ipykernel)",
   "language": "python",
   "name": "python3"
  },
  "language_info": {
   "codemirror_mode": {
    "name": "ipython",
    "version": 3
   },
   "file_extension": ".py",
   "mimetype": "text/x-python",
   "name": "python",
   "nbconvert_exporter": "python",
   "pygments_lexer": "ipython3",
   "version": "3.11.7"
  }
 },
 "nbformat": 4,
 "nbformat_minor": 5
}
