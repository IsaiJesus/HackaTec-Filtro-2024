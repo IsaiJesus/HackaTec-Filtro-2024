{
 "cells": [
  {
   "cell_type": "markdown",
   "id": "ef56ec58-a476-4e43-8ba1-1e56d7f20974",
   "metadata": {},
   "source": [
    "# **1. Carga de datos**"
   ]
  },
  {
   "cell_type": "code",
   "execution_count": 13,
   "id": "6631dcfd-1cbd-4088-8c26-7f06970b9db2",
   "metadata": {},
   "outputs": [
    {
     "name": "stdout",
     "output_type": "stream",
     "text": [
      "Requirement already satisfied: missingno in c:\\users\\isaij\\anaconda3\\lib\\site-packages (0.5.2)\n",
      "Requirement already satisfied: numpy in c:\\users\\isaij\\anaconda3\\lib\\site-packages (from missingno) (1.26.4)\n",
      "Requirement already satisfied: matplotlib in c:\\users\\isaij\\anaconda3\\lib\\site-packages (from missingno) (3.8.0)\n",
      "Requirement already satisfied: scipy in c:\\users\\isaij\\anaconda3\\lib\\site-packages (from missingno) (1.11.4)\n",
      "Requirement already satisfied: seaborn in c:\\users\\isaij\\anaconda3\\lib\\site-packages (from missingno) (0.12.2)\n",
      "Requirement already satisfied: contourpy>=1.0.1 in c:\\users\\isaij\\anaconda3\\lib\\site-packages (from matplotlib->missingno) (1.2.0)\n",
      "Requirement already satisfied: cycler>=0.10 in c:\\users\\isaij\\anaconda3\\lib\\site-packages (from matplotlib->missingno) (0.11.0)\n",
      "Requirement already satisfied: fonttools>=4.22.0 in c:\\users\\isaij\\anaconda3\\lib\\site-packages (from matplotlib->missingno) (4.25.0)\n",
      "Requirement already satisfied: kiwisolver>=1.0.1 in c:\\users\\isaij\\anaconda3\\lib\\site-packages (from matplotlib->missingno) (1.4.4)\n",
      "Requirement already satisfied: packaging>=20.0 in c:\\users\\isaij\\anaconda3\\lib\\site-packages (from matplotlib->missingno) (23.1)\n",
      "Requirement already satisfied: pillow>=6.2.0 in c:\\users\\isaij\\anaconda3\\lib\\site-packages (from matplotlib->missingno) (10.2.0)\n",
      "Requirement already satisfied: pyparsing>=2.3.1 in c:\\users\\isaij\\anaconda3\\lib\\site-packages (from matplotlib->missingno) (3.0.9)\n",
      "Requirement already satisfied: python-dateutil>=2.7 in c:\\users\\isaij\\anaconda3\\lib\\site-packages (from matplotlib->missingno) (2.8.2)\n",
      "Requirement already satisfied: pandas>=0.25 in c:\\users\\isaij\\anaconda3\\lib\\site-packages (from seaborn->missingno) (2.1.4)\n",
      "Requirement already satisfied: pytz>=2020.1 in c:\\users\\isaij\\anaconda3\\lib\\site-packages (from pandas>=0.25->seaborn->missingno) (2023.3.post1)\n",
      "Requirement already satisfied: tzdata>=2022.1 in c:\\users\\isaij\\anaconda3\\lib\\site-packages (from pandas>=0.25->seaborn->missingno) (2023.3)\n",
      "Requirement already satisfied: six>=1.5 in c:\\users\\isaij\\anaconda3\\lib\\site-packages (from python-dateutil>=2.7->matplotlib->missingno) (1.16.0)\n",
      "Note: you may need to restart the kernel to use updated packages.\n"
     ]
    }
   ],
   "source": [
    "pip install missingno"
   ]
  },
  {
   "cell_type": "code",
   "execution_count": 14,
   "id": "e29fcc04-39f8-428c-9fd1-e3195825c30b",
   "metadata": {},
   "outputs": [],
   "source": [
    "import pandas as pd\n",
    "import numpy as np\n",
    "import matplotlib.pyplot as plt\n",
    "import missingno as msno"
   ]
  },
  {
   "cell_type": "code",
   "execution_count": 15,
   "id": "50b61a42-3b20-4d32-a85f-017597258446",
   "metadata": {},
   "outputs": [],
   "source": [
    "df = pd.read_csv('./datasets/respuestas.csv')"
   ]
  },
  {
   "cell_type": "code",
   "execution_count": 16,
   "id": "9b67a7c3-7d8c-4115-bbd9-2a2b26ce7ced",
   "metadata": {},
   "outputs": [
    {
     "data": {
      "text/html": [
       "<div>\n",
       "<style scoped>\n",
       "    .dataframe tbody tr th:only-of-type {\n",
       "        vertical-align: middle;\n",
       "    }\n",
       "\n",
       "    .dataframe tbody tr th {\n",
       "        vertical-align: top;\n",
       "    }\n",
       "\n",
       "    .dataframe thead th {\n",
       "        text-align: right;\n",
       "    }\n",
       "</style>\n",
       "<table border=\"1\" class=\"dataframe\">\n",
       "  <thead>\n",
       "    <tr style=\"text-align: right;\">\n",
       "      <th></th>\n",
       "      <th>Sexo</th>\n",
       "      <th>Edad</th>\n",
       "      <th>Fumador</th>\n",
       "      <th>dedos amarillos</th>\n",
       "      <th>Ansiedad</th>\n",
       "      <th>presion de grupo</th>\n",
       "      <th>enfermedad cronica</th>\n",
       "      <th>fatiga</th>\n",
       "      <th>Alergia</th>\n",
       "      <th>Sibilancias</th>\n",
       "      <th>Consumo Alcohol</th>\n",
       "      <th>Tos</th>\n",
       "      <th>Dificultad respirar</th>\n",
       "      <th>Dificultad tragar</th>\n",
       "      <th>Dolor en pecho</th>\n",
       "      <th>Cancer de pulmon</th>\n",
       "    </tr>\n",
       "  </thead>\n",
       "  <tbody>\n",
       "    <tr>\n",
       "      <th>0</th>\n",
       "      <td>M</td>\n",
       "      <td>57</td>\n",
       "      <td>1.0</td>\n",
       "      <td>1</td>\n",
       "      <td>2</td>\n",
       "      <td>2.0</td>\n",
       "      <td>1.0</td>\n",
       "      <td>1</td>\n",
       "      <td>2</td>\n",
       "      <td>1</td>\n",
       "      <td>2.0</td>\n",
       "      <td>2.0</td>\n",
       "      <td>2.0</td>\n",
       "      <td>2.0</td>\n",
       "      <td>2</td>\n",
       "      <td>YES</td>\n",
       "    </tr>\n",
       "    <tr>\n",
       "      <th>1</th>\n",
       "      <td>M</td>\n",
       "      <td>82</td>\n",
       "      <td>2.0</td>\n",
       "      <td>2</td>\n",
       "      <td>2</td>\n",
       "      <td>2.0</td>\n",
       "      <td>1.0</td>\n",
       "      <td>2</td>\n",
       "      <td>2</td>\n",
       "      <td>2</td>\n",
       "      <td>2.0</td>\n",
       "      <td>1.0</td>\n",
       "      <td>1.0</td>\n",
       "      <td>2.0</td>\n",
       "      <td>1</td>\n",
       "      <td>YES</td>\n",
       "    </tr>\n",
       "    <tr>\n",
       "      <th>2</th>\n",
       "      <td>M</td>\n",
       "      <td>44</td>\n",
       "      <td>1.0</td>\n",
       "      <td>1</td>\n",
       "      <td>2</td>\n",
       "      <td>2.0</td>\n",
       "      <td>2.0</td>\n",
       "      <td>2</td>\n",
       "      <td>2</td>\n",
       "      <td>1</td>\n",
       "      <td>1.0</td>\n",
       "      <td>1.0</td>\n",
       "      <td>1.0</td>\n",
       "      <td>2.0</td>\n",
       "      <td>2</td>\n",
       "      <td>YES</td>\n",
       "    </tr>\n",
       "    <tr>\n",
       "      <th>3</th>\n",
       "      <td>M</td>\n",
       "      <td>29</td>\n",
       "      <td>1.0</td>\n",
       "      <td>1</td>\n",
       "      <td>1</td>\n",
       "      <td>2.0</td>\n",
       "      <td>1.0</td>\n",
       "      <td>2</td>\n",
       "      <td>2</td>\n",
       "      <td>2</td>\n",
       "      <td>2.0</td>\n",
       "      <td>2.0</td>\n",
       "      <td>1.0</td>\n",
       "      <td>1.0</td>\n",
       "      <td>1</td>\n",
       "      <td>NO</td>\n",
       "    </tr>\n",
       "    <tr>\n",
       "      <th>4</th>\n",
       "      <td>M</td>\n",
       "      <td>41</td>\n",
       "      <td>1.0</td>\n",
       "      <td>1</td>\n",
       "      <td>2</td>\n",
       "      <td>1.0</td>\n",
       "      <td>2.0</td>\n",
       "      <td>2</td>\n",
       "      <td>2</td>\n",
       "      <td>1</td>\n",
       "      <td>1.0</td>\n",
       "      <td>1.0</td>\n",
       "      <td>2.0</td>\n",
       "      <td>1.0</td>\n",
       "      <td>1</td>\n",
       "      <td>YES</td>\n",
       "    </tr>\n",
       "  </tbody>\n",
       "</table>\n",
       "</div>"
      ],
      "text/plain": [
       "  Sexo Edad  Fumador dedos amarillos Ansiedad  presion de grupo  \\\n",
       "0    M   57      1.0               1        2               2.0   \n",
       "1    M   82      2.0               2        2               2.0   \n",
       "2    M   44      1.0               1        2               2.0   \n",
       "3    M   29      1.0               1        1               2.0   \n",
       "4    M   41      1.0               1        2               1.0   \n",
       "\n",
       "   enfermedad cronica fatiga Alergia Sibilancias  Consumo Alcohol  Tos  \\\n",
       "0                 1.0      1       2           1              2.0  2.0   \n",
       "1                 1.0      2       2           2              2.0  1.0   \n",
       "2                 2.0      2       2           1              1.0  1.0   \n",
       "3                 1.0      2       2           2              2.0  2.0   \n",
       "4                 2.0      2       2           1              1.0  1.0   \n",
       "\n",
       "   Dificultad respirar  Dificultad tragar Dolor en pecho Cancer de pulmon  \n",
       "0                  2.0                2.0              2              YES  \n",
       "1                  1.0                2.0              1              YES  \n",
       "2                  1.0                2.0              2              YES  \n",
       "3                  1.0                1.0              1               NO  \n",
       "4                  2.0                1.0              1              YES  "
      ]
     },
     "execution_count": 16,
     "metadata": {},
     "output_type": "execute_result"
    }
   ],
   "source": [
    "df.head()"
   ]
  },
  {
   "cell_type": "code",
   "execution_count": 17,
   "id": "427acce1-5ca7-4265-a6ba-f20d3b1a5dd0",
   "metadata": {},
   "outputs": [
    {
     "data": {
      "text/html": [
       "<div>\n",
       "<style scoped>\n",
       "    .dataframe tbody tr th:only-of-type {\n",
       "        vertical-align: middle;\n",
       "    }\n",
       "\n",
       "    .dataframe tbody tr th {\n",
       "        vertical-align: top;\n",
       "    }\n",
       "\n",
       "    .dataframe thead th {\n",
       "        text-align: right;\n",
       "    }\n",
       "</style>\n",
       "<table border=\"1\" class=\"dataframe\">\n",
       "  <thead>\n",
       "    <tr style=\"text-align: right;\">\n",
       "      <th></th>\n",
       "      <th>Sexo</th>\n",
       "      <th>Edad</th>\n",
       "      <th>Fumador</th>\n",
       "      <th>dedos amarillos</th>\n",
       "      <th>Ansiedad</th>\n",
       "      <th>presion de grupo</th>\n",
       "      <th>enfermedad cronica</th>\n",
       "      <th>fatiga</th>\n",
       "      <th>Alergia</th>\n",
       "      <th>Sibilancias</th>\n",
       "      <th>Consumo Alcohol</th>\n",
       "      <th>Tos</th>\n",
       "      <th>Dificultad respirar</th>\n",
       "      <th>Dificultad tragar</th>\n",
       "      <th>Dolor en pecho</th>\n",
       "      <th>Cancer de pulmon</th>\n",
       "    </tr>\n",
       "  </thead>\n",
       "  <tbody>\n",
       "    <tr>\n",
       "      <th>9995</th>\n",
       "      <td>F</td>\n",
       "      <td>23</td>\n",
       "      <td>2.0</td>\n",
       "      <td>1</td>\n",
       "      <td>2</td>\n",
       "      <td>1.0</td>\n",
       "      <td>2.0</td>\n",
       "      <td>1</td>\n",
       "      <td>2</td>\n",
       "      <td>1</td>\n",
       "      <td>2.0</td>\n",
       "      <td>2.0</td>\n",
       "      <td>2.0</td>\n",
       "      <td>1.0</td>\n",
       "      <td>1</td>\n",
       "      <td>NO</td>\n",
       "    </tr>\n",
       "    <tr>\n",
       "      <th>9996</th>\n",
       "      <td>M</td>\n",
       "      <td>61</td>\n",
       "      <td>1.0</td>\n",
       "      <td>1</td>\n",
       "      <td>2</td>\n",
       "      <td>2.0</td>\n",
       "      <td>1.0</td>\n",
       "      <td>1</td>\n",
       "      <td>2</td>\n",
       "      <td>1</td>\n",
       "      <td>2.0</td>\n",
       "      <td>2.0</td>\n",
       "      <td>1.0</td>\n",
       "      <td>1.0</td>\n",
       "      <td>2</td>\n",
       "      <td>YES</td>\n",
       "    </tr>\n",
       "    <tr>\n",
       "      <th>9997</th>\n",
       "      <td>F</td>\n",
       "      <td>18</td>\n",
       "      <td>1.0</td>\n",
       "      <td>2</td>\n",
       "      <td>1</td>\n",
       "      <td>1.0</td>\n",
       "      <td>2.0</td>\n",
       "      <td>2</td>\n",
       "      <td>1</td>\n",
       "      <td>1</td>\n",
       "      <td>1.0</td>\n",
       "      <td>2.0</td>\n",
       "      <td>1.0</td>\n",
       "      <td>2.0</td>\n",
       "      <td>1</td>\n",
       "      <td>NO</td>\n",
       "    </tr>\n",
       "    <tr>\n",
       "      <th>9998</th>\n",
       "      <td>F</td>\n",
       "      <td>38</td>\n",
       "      <td>2.0</td>\n",
       "      <td>2</td>\n",
       "      <td>1</td>\n",
       "      <td>1.0</td>\n",
       "      <td>2.0</td>\n",
       "      <td>2</td>\n",
       "      <td>2</td>\n",
       "      <td>2</td>\n",
       "      <td>1.0</td>\n",
       "      <td>1.0</td>\n",
       "      <td>1.0</td>\n",
       "      <td>1.0</td>\n",
       "      <td>1</td>\n",
       "      <td>NO</td>\n",
       "    </tr>\n",
       "    <tr>\n",
       "      <th>9999</th>\n",
       "      <td>M</td>\n",
       "      <td>31</td>\n",
       "      <td>2.0</td>\n",
       "      <td>1</td>\n",
       "      <td>1</td>\n",
       "      <td>2.0</td>\n",
       "      <td>2.0</td>\n",
       "      <td>1</td>\n",
       "      <td>2</td>\n",
       "      <td>2</td>\n",
       "      <td>2.0</td>\n",
       "      <td>2.0</td>\n",
       "      <td>1.0</td>\n",
       "      <td>2.0</td>\n",
       "      <td>1</td>\n",
       "      <td>YES</td>\n",
       "    </tr>\n",
       "  </tbody>\n",
       "</table>\n",
       "</div>"
      ],
      "text/plain": [
       "     Sexo Edad  Fumador dedos amarillos Ansiedad  presion de grupo  \\\n",
       "9995    F   23      2.0               1        2               1.0   \n",
       "9996    M   61      1.0               1        2               2.0   \n",
       "9997    F   18      1.0               2        1               1.0   \n",
       "9998    F   38      2.0               2        1               1.0   \n",
       "9999    M   31      2.0               1        1               2.0   \n",
       "\n",
       "      enfermedad cronica fatiga Alergia Sibilancias  Consumo Alcohol  Tos  \\\n",
       "9995                 2.0      1       2           1              2.0  2.0   \n",
       "9996                 1.0      1       2           1              2.0  2.0   \n",
       "9997                 2.0      2       1           1              1.0  2.0   \n",
       "9998                 2.0      2       2           2              1.0  1.0   \n",
       "9999                 2.0      1       2           2              2.0  2.0   \n",
       "\n",
       "      Dificultad respirar  Dificultad tragar Dolor en pecho Cancer de pulmon  \n",
       "9995                  2.0                1.0              1               NO  \n",
       "9996                  1.0                1.0              2              YES  \n",
       "9997                  1.0                2.0              1               NO  \n",
       "9998                  1.0                1.0              1               NO  \n",
       "9999                  1.0                2.0              1              YES  "
      ]
     },
     "execution_count": 17,
     "metadata": {},
     "output_type": "execute_result"
    }
   ],
   "source": [
    "df.tail()"
   ]
  },
  {
   "cell_type": "markdown",
   "id": "9bc1cf37-988a-4a56-84bd-4a14c286ff2b",
   "metadata": {},
   "source": [
    "Valor de las variables:"
   ]
  },
  {
   "attachments": {
    "98294b21-92a5-4849-98d3-05f8ac7ecec9.png": {
     "image/png": "[encoded data removed]"
    }
   },
   "cell_type": "markdown",
   "id": "7db35ea8-7349-448c-97a1-ecb5ced0f9c1",
   "metadata": {},
   "source": [
    "![Valor de las variables](attachment:98294b21-92a5-4849-98d3-05f8ac7ecec9.png)"
   ]
  },
  {
   "cell_type": "markdown",
   "id": "608ab17b-1770-4bd8-ae74-8ae2f7a597b4",
   "metadata": {},
   "source": [
    "Para la mayoría de las columnas SI = 2 y NO = 1."
   ]
  },
  {
   "cell_type": "markdown",
   "id": "defbfd57-c2ef-4513-af41-fcca92b7d5ee",
   "metadata": {},
   "source": [
    "# **2. Exploración de datos**"
   ]
  },
  {
   "cell_type": "markdown",
   "id": "ed889c17-6fd6-4141-9efe-d4d0ba33cb54",
   "metadata": {},
   "source": [
    "Primero se comienza el análisis viendo qué variables hay en el dataset, qué columnas y ver si hay datos faltantes o erróneos."
   ]
  },
  {
   "cell_type": "code",
   "execution_count": 18,
   "id": "3c65dc7b-d174-45d0-b6f4-984b86abaf31",
   "metadata": {},
   "outputs": [
    {
     "data": {
      "text/plain": [
       "Index(['Sexo', 'Edad', 'Fumador', 'dedos amarillos', 'Ansiedad',\n",
       "       'presion de grupo', 'enfermedad cronica', 'fatiga', 'Alergia',\n",
       "       'Sibilancias', 'Consumo Alcohol', 'Tos', 'Dificultad respirar',\n",
       "       'Dificultad tragar', 'Dolor en pecho', 'Cancer de pulmon'],\n",
       "      dtype='object')"
      ]
     },
     "execution_count": 18,
     "metadata": {},
     "output_type": "execute_result"
    }
   ],
   "source": [
    "# Columnas en el dataset\n",
    "df.columns"
   ]
  },
  {
   "cell_type": "code",
   "execution_count": 19,
   "id": "b51b58a2-1bbe-41ee-a835-9d8db894de33",
   "metadata": {},
   "outputs": [
    {
     "data": {
      "text/plain": [
       "(10000, 16)"
      ]
     },
     "execution_count": 19,
     "metadata": {},
     "output_type": "execute_result"
    }
   ],
   "source": [
    "# Tamaño completo del dataset\n",
    "df.shape"
   ]
  },
  {
   "cell_type": "code",
   "execution_count": 20,
   "id": "4a6cfdcf-6ac9-4644-9073-3a7d01c4dccc",
   "metadata": {},
   "outputs": [
    {
     "name": "stdout",
     "output_type": "stream",
     "text": [
      "<class 'pandas.core.frame.DataFrame'>\n",
      "RangeIndex: 10000 entries, 0 to 9999\n",
      "Data columns (total 16 columns):\n",
      " #   Column               Non-Null Count  Dtype  \n",
      "---  ------               --------------  -----  \n",
      " 0   Sexo                 9998 non-null   object \n",
      " 1   Edad                 9998 non-null   object \n",
      " 2   Fumador              9999 non-null   float64\n",
      " 3   dedos amarillos      9998 non-null   object \n",
      " 4   Ansiedad             9998 non-null   object \n",
      " 5   presion de grupo     9998 non-null   float64\n",
      " 6   enfermedad cronica   9999 non-null   float64\n",
      " 7   fatiga               9998 non-null   object \n",
      " 8   Alergia              9999 non-null   object \n",
      " 9   Sibilancias          9997 non-null   object \n",
      " 10  Consumo Alcohol      9999 non-null   float64\n",
      " 11  Tos                  9999 non-null   float64\n",
      " 12  Dificultad respirar  9997 non-null   float64\n",
      " 13  Dificultad tragar    9999 non-null   float64\n",
      " 14  Dolor en pecho       10000 non-null  object \n",
      " 15  Cancer de pulmon     10000 non-null  object \n",
      "dtypes: float64(7), object(9)\n",
      "memory usage: 1.2+ MB\n"
     ]
    }
   ],
   "source": [
    "df.info()"
   ]
  },
  {
   "cell_type": "code",
   "execution_count": 21,
   "id": "dfe7b985-29f0-46aa-97a9-58692ab7f356",
   "metadata": {},
   "outputs": [
    {
     "data": {
      "text/plain": [
       "<Axes: >"
      ]
     },
     "execution_count": 21,
     "metadata": {},
     "output_type": "execute_result"
    },
    {
     "data": {
      "image/png": "[encoded data removed]",
      "text/plain": [
       "<Figure size 2500x1000 with 3 Axes>"
      ]
     },
     "metadata": {},
     "output_type": "display_data"
    }
   ],
   "source": [
    "msno.bar(df)"
   ]
  },
  {
   "cell_type": "markdown",
   "id": "3d76b459-950d-4174-acd1-9995c6ac9a4f",
   "metadata": {},
   "source": [
    "Se puede ver que en algunos de las columnas hay registros vacios. Debido a que son muy pocos registros, de principio se podrían rellenar con el valor pormedio de su columna."
   ]
  },
  {
   "cell_type": "code",
   "execution_count": 22,
   "id": "640897eb-f948-4d84-b8fb-26ebfff2ce19",
   "metadata": {},
   "outputs": [
    {
     "data": {
      "text/html": [
       "<div>\n",
       "<style scoped>\n",
       "    .dataframe tbody tr th:only-of-type {\n",
       "        vertical-align: middle;\n",
       "    }\n",
       "\n",
       "    .dataframe tbody tr th {\n",
       "        vertical-align: top;\n",
       "    }\n",
       "\n",
       "    .dataframe thead th {\n",
       "        text-align: right;\n",
       "    }\n",
       "</style>\n",
       "<table border=\"1\" class=\"dataframe\">\n",
       "  <thead>\n",
       "    <tr style=\"text-align: right;\">\n",
       "      <th></th>\n",
       "      <th>Fumador</th>\n",
       "      <th>presion de grupo</th>\n",
       "      <th>enfermedad cronica</th>\n",
       "      <th>Consumo Alcohol</th>\n",
       "      <th>Tos</th>\n",
       "      <th>Dificultad respirar</th>\n",
       "      <th>Dificultad tragar</th>\n",
       "    </tr>\n",
       "  </thead>\n",
       "  <tbody>\n",
       "    <tr>\n",
       "      <th>count</th>\n",
       "      <td>9999.00000</td>\n",
       "      <td>9998.000000</td>\n",
       "      <td>9999.000000</td>\n",
       "      <td>9999.000000</td>\n",
       "      <td>9999.000000</td>\n",
       "      <td>9997.000000</td>\n",
       "      <td>9999.000000</td>\n",
       "    </tr>\n",
       "    <tr>\n",
       "      <th>mean</th>\n",
       "      <td>1.50495</td>\n",
       "      <td>1.506201</td>\n",
       "      <td>1.497950</td>\n",
       "      <td>1.496050</td>\n",
       "      <td>1.497450</td>\n",
       "      <td>1.499150</td>\n",
       "      <td>1.498150</td>\n",
       "    </tr>\n",
       "    <tr>\n",
       "      <th>std</th>\n",
       "      <td>0.50000</td>\n",
       "      <td>0.499987</td>\n",
       "      <td>0.500021</td>\n",
       "      <td>0.500009</td>\n",
       "      <td>0.500019</td>\n",
       "      <td>0.500024</td>\n",
       "      <td>0.500022</td>\n",
       "    </tr>\n",
       "    <tr>\n",
       "      <th>min</th>\n",
       "      <td>1.00000</td>\n",
       "      <td>1.000000</td>\n",
       "      <td>1.000000</td>\n",
       "      <td>1.000000</td>\n",
       "      <td>1.000000</td>\n",
       "      <td>1.000000</td>\n",
       "      <td>1.000000</td>\n",
       "    </tr>\n",
       "    <tr>\n",
       "      <th>25%</th>\n",
       "      <td>1.00000</td>\n",
       "      <td>1.000000</td>\n",
       "      <td>1.000000</td>\n",
       "      <td>1.000000</td>\n",
       "      <td>1.000000</td>\n",
       "      <td>1.000000</td>\n",
       "      <td>1.000000</td>\n",
       "    </tr>\n",
       "    <tr>\n",
       "      <th>50%</th>\n",
       "      <td>2.00000</td>\n",
       "      <td>2.000000</td>\n",
       "      <td>1.000000</td>\n",
       "      <td>1.000000</td>\n",
       "      <td>1.000000</td>\n",
       "      <td>1.000000</td>\n",
       "      <td>1.000000</td>\n",
       "    </tr>\n",
       "    <tr>\n",
       "      <th>75%</th>\n",
       "      <td>2.00000</td>\n",
       "      <td>2.000000</td>\n",
       "      <td>2.000000</td>\n",
       "      <td>2.000000</td>\n",
       "      <td>2.000000</td>\n",
       "      <td>2.000000</td>\n",
       "      <td>2.000000</td>\n",
       "    </tr>\n",
       "    <tr>\n",
       "      <th>max</th>\n",
       "      <td>2.00000</td>\n",
       "      <td>2.000000</td>\n",
       "      <td>2.000000</td>\n",
       "      <td>2.000000</td>\n",
       "      <td>2.000000</td>\n",
       "      <td>2.000000</td>\n",
       "      <td>2.000000</td>\n",
       "    </tr>\n",
       "  </tbody>\n",
       "</table>\n",
       "</div>"
      ],
      "text/plain": [
       "          Fumador  presion de grupo  enfermedad cronica  Consumo Alcohol  \\\n",
       "count  9999.00000       9998.000000         9999.000000      9999.000000   \n",
       "mean      1.50495          1.506201            1.497950         1.496050   \n",
       "std       0.50000          0.499987            0.500021         0.500009   \n",
       "min       1.00000          1.000000            1.000000         1.000000   \n",
       "25%       1.00000          1.000000            1.000000         1.000000   \n",
       "50%       2.00000          2.000000            1.000000         1.000000   \n",
       "75%       2.00000          2.000000            2.000000         2.000000   \n",
       "max       2.00000          2.000000            2.000000         2.000000   \n",
       "\n",
       "               Tos  Dificultad respirar  Dificultad tragar  \n",
       "count  9999.000000          9997.000000        9999.000000  \n",
       "mean      1.497450             1.499150           1.498150  \n",
       "std       0.500019             0.500024           0.500022  \n",
       "min       1.000000             1.000000           1.000000  \n",
       "25%       1.000000             1.000000           1.000000  \n",
       "50%       1.000000             1.000000           1.000000  \n",
       "75%       2.000000             2.000000           2.000000  \n",
       "max       2.000000             2.000000           2.000000  "
      ]
     },
     "execution_count": 22,
     "metadata": {},
     "output_type": "execute_result"
    }
   ],
   "source": [
    "# Variables numéricas\n",
    "df.describe()"
   ]
  },
  {
   "cell_type": "code",
   "execution_count": 23,
   "id": "0fc7233c-8792-4452-bd88-5a84568484d2",
   "metadata": {},
   "outputs": [
    {
     "data": {
      "text/html": [
       "<div>\n",
       "<style scoped>\n",
       "    .dataframe tbody tr th:only-of-type {\n",
       "        vertical-align: middle;\n",
       "    }\n",
       "\n",
       "    .dataframe tbody tr th {\n",
       "        vertical-align: top;\n",
       "    }\n",
       "\n",
       "    .dataframe thead th {\n",
       "        text-align: right;\n",
       "    }\n",
       "</style>\n",
       "<table border=\"1\" class=\"dataframe\">\n",
       "  <thead>\n",
       "    <tr style=\"text-align: right;\">\n",
       "      <th></th>\n",
       "      <th>Sexo</th>\n",
       "      <th>Edad</th>\n",
       "      <th>dedos amarillos</th>\n",
       "      <th>Ansiedad</th>\n",
       "      <th>fatiga</th>\n",
       "      <th>Alergia</th>\n",
       "      <th>Sibilancias</th>\n",
       "      <th>Dolor en pecho</th>\n",
       "      <th>Cancer de pulmon</th>\n",
       "    </tr>\n",
       "  </thead>\n",
       "  <tbody>\n",
       "    <tr>\n",
       "      <th>count</th>\n",
       "      <td>9998</td>\n",
       "      <td>9998</td>\n",
       "      <td>9998</td>\n",
       "      <td>9998</td>\n",
       "      <td>9998</td>\n",
       "      <td>9999</td>\n",
       "      <td>9997</td>\n",
       "      <td>10000</td>\n",
       "      <td>10000</td>\n",
       "    </tr>\n",
       "    <tr>\n",
       "      <th>unique</th>\n",
       "      <td>3</td>\n",
       "      <td>75</td>\n",
       "      <td>4</td>\n",
       "      <td>4</td>\n",
       "      <td>4</td>\n",
       "      <td>3</td>\n",
       "      <td>3</td>\n",
       "      <td>5</td>\n",
       "      <td>8</td>\n",
       "    </tr>\n",
       "    <tr>\n",
       "      <th>top</th>\n",
       "      <td>M</td>\n",
       "      <td>29</td>\n",
       "      <td>1</td>\n",
       "      <td>2</td>\n",
       "      <td>1</td>\n",
       "      <td>1</td>\n",
       "      <td>2</td>\n",
       "      <td>1</td>\n",
       "      <td>YES</td>\n",
       "    </tr>\n",
       "    <tr>\n",
       "      <th>freq</th>\n",
       "      <td>5031</td>\n",
       "      <td>167</td>\n",
       "      <td>5045</td>\n",
       "      <td>5014</td>\n",
       "      <td>5098</td>\n",
       "      <td>5047</td>\n",
       "      <td>5017</td>\n",
       "      <td>5066</td>\n",
       "      <td>5060</td>\n",
       "    </tr>\n",
       "  </tbody>\n",
       "</table>\n",
       "</div>"
      ],
      "text/plain": [
       "        Sexo  Edad dedos amarillos Ansiedad fatiga Alergia Sibilancias  \\\n",
       "count   9998  9998            9998     9998   9998    9999        9997   \n",
       "unique     3    75               4        4      4       3           3   \n",
       "top        M    29               1        2      1       1           2   \n",
       "freq    5031   167            5045     5014   5098    5047        5017   \n",
       "\n",
       "       Dolor en pecho Cancer de pulmon  \n",
       "count           10000            10000  \n",
       "unique              5                8  \n",
       "top                 1              YES  \n",
       "freq             5066             5060  "
      ]
     },
     "execution_count": 23,
     "metadata": {},
     "output_type": "execute_result"
    }
   ],
   "source": [
    "# Variables categóricas\n",
    "df.describe(include=['O'])"
   ]
  },
  {
   "cell_type": "markdown",
   "id": "1d93c653-bb44-46df-a272-3a7e533d4785",
   "metadata": {},
   "source": [
    "De igual manera, es más visible en las variables categóricas que hay variables que tienen datos incorrectos, ya que hay registrados más valores de los permitidos en la mayoría (1 y 2)."
   ]
  },
  {
   "cell_type": "markdown",
   "id": "c9833f49-69aa-4c68-9b41-ea92394c902b",
   "metadata": {},
   "source": [
    "Antes de realizar la limpieza del dataset, se hará un EDA para ver comportamientos en las variables o coincidencisa entre ellas."
   ]
  },
  {
   "cell_type": "markdown",
   "id": "6dca2276-4129-4db2-9dd5-f5e624bad9db",
   "metadata": {},
   "source": [
    "# EDA"
   ]
  },
  {
   "cell_type": "code",
   "execution_count": 24,
   "id": "800e2edd-1140-4fa3-a7d4-82be80cd8f86",
   "metadata": {},
   "outputs": [
    {
     "data": {
      "text/plain": [
       "Cancer de pulmon\n",
       ".         1\n",
       "?         1\n",
       "NO     4927\n",
       "YES    5060\n",
       "no        3\n",
       "not       1\n",
       "si        2\n",
       "yes       5\n",
       "Name: Cancer de pulmon, dtype: int64"
      ]
     },
     "execution_count": 24,
     "metadata": {},
     "output_type": "execute_result"
    }
   ],
   "source": [
    "df['Cancer de pulmon'].groupby(df['Cancer de pulmon']).count()"
   ]
  },
  {
   "cell_type": "markdown",
   "id": "63741b5d-216b-4a44-9681-011b3963dd54",
   "metadata": {},
   "source": [
    "A pesar de que hay datos incorrectos, la mayoría de las personas encuestadas resultaron con **sí** tener cáncer de pulmón.\n",
    "Aunque realmente es una pequeña diferencia, casi la mitad tienen el padecimiento."
   ]
  },
  {
   "cell_type": "code",
   "execution_count": 25,
   "id": "373407a3-4a94-491e-959a-a938dc30e480",
   "metadata": {},
   "outputs": [
    {
     "name": "stdout",
     "output_type": "stream",
     "text": [
      "50.6% de SI\n",
      "49.27% de NO\n",
      "Sin considerar los datos sucios\n"
     ]
    }
   ],
   "source": [
    "si = (5060 / 10000) * 100\n",
    "no = (4927 / 10000) * 100\n",
    "print(f\"{si}% de SI\")\n",
    "print(f\"{no}% de NO\")\n",
    "print(\"Sin considerar los datos sucios\")"
   ]
  },
  {
   "cell_type": "code",
   "execution_count": 26,
   "id": "1183fa3b-11e8-4619-bc42-56e4891eac80",
   "metadata": {},
   "outputs": [
    {
     "data": {
      "text/plain": [
       "Cancer de pulmon  Sexo\n",
       "YES               F       2489\n",
       "                  M       2570\n",
       "NO                C          1\n",
       "                  F       2473\n",
       "                  M       2452\n",
       "dtype: int64"
      ]
     },
     "execution_count": 26,
     "metadata": {},
     "output_type": "execute_result"
    }
   ],
   "source": [
    "df.groupby(['Cancer de pulmon', 'Sexo']).size().loc[(['YES', 'NO'])]"
   ]
  },
  {
   "cell_type": "markdown",
   "id": "965a9c04-5943-47ab-9248-e47438ac057d",
   "metadata": {},
   "source": [
    "Por lo visto, no hay alguún patrón o particularidad con las varaible de sexo, ya que igualmente tanto hombres como mujeres tienen resultados similares frente a padecer de cáncer o no."
   ]
  },
  {
   "cell_type": "code",
   "execution_count": 27,
   "id": "15d21845-e047-4671-bf20-e8d933e4a320",
   "metadata": {},
   "outputs": [
    {
     "data": {
      "image/png": "[encoded data removed]",
      "text/plain": [
       "<Figure size 640x480 with 1 Axes>"
      ]
     },
     "metadata": {},
     "output_type": "display_data"
    }
   ],
   "source": [
    "grouped_sex = df.groupby(['Cancer de pulmon', 'Sexo']).size().loc[(['YES', 'NO'])]\n",
    "(grouped_sex.unstack(level = 0).plot.bar())\n",
    "plt.show()"
   ]
  },
  {
   "cell_type": "markdown",
   "id": "20c30295-1cb6-4564-a3c6-63de35b98e11",
   "metadata": {},
   "source": [
    "Antes de comenzar con la limpieza de los datos, quiero ver el top de los datos que están declarados como numéricos continuos."
   ]
  },
  {
   "cell_type": "code",
   "execution_count": 28,
   "id": "fd85817a-401f-4d8e-923a-93a1367b0e9b",
   "metadata": {},
   "outputs": [
    {
     "name": "stdout",
     "output_type": "stream",
     "text": [
      "Top de fumador: 2.0\n",
      "Top de presión de grupo: 2.0\n",
      "Top de enfermedad crónica: 1.0\n",
      "Top de consumo de alcohol: 1.0\n",
      "Top de tos: 1.0\n",
      "Top de dificultad de respirar: 1.0\n",
      "Top de dificultad de tragar: 1.0\n"
     ]
    }
   ],
   "source": [
    "fumador = df['Fumador'].value_counts().idxmax()\n",
    "presion = df['presion de grupo'].value_counts().idxmax()\n",
    "enf_cronica = df['enfermedad cronica'].value_counts().idxmax()\n",
    "alcohol = df['Consumo Alcohol'].value_counts().idxmax()\n",
    "tos = df['Tos'].value_counts().idxmax()\n",
    "dif_respirar = df['Dificultad respirar'].value_counts().idxmax()\n",
    "dif_tragar = df['Dificultad tragar'].value_counts().idxmax()\n",
    "\n",
    "print(f\"Top de fumador: {fumador}\")\n",
    "print(f\"Top de presión de grupo: {presion}\")\n",
    "print(f\"Top de enfermedad crónica: {enf_cronica}\")\n",
    "print(f\"Top de consumo de alcohol: {alcohol}\")\n",
    "print(f\"Top de tos: {tos}\")\n",
    "print(f\"Top de dificultad de respirar: {dif_respirar}\")\n",
    "print(f\"Top de dificultad de tragar: {dif_tragar}\")"
   ]
  },
  {
   "cell_type": "markdown",
   "id": "4e597805-5150-4540-8d0f-1a187528be32",
   "metadata": {},
   "source": [
    "Los valores con mayor respuesta de **sí** padecerlos son: \n",
    "- Ansiedad\n",
    "- Sibilancias\n",
    "- Fumador\n",
    "- Presión de grupo"
   ]
  },
  {
   "cell_type": "code",
   "execution_count": 29,
   "id": "eea861ff-5a7a-4150-b037-e7606ea605e0",
   "metadata": {},
   "outputs": [
    {
     "data": {
      "text/plain": [
       "Cancer de pulmon  Ansiedad\n",
       "YES               1           2571\n",
       "                  2           2488\n",
       "NO                1           2405\n",
       "                  2           2519\n",
       "                  ?              1\n",
       "                  B              1\n",
       "dtype: int64"
      ]
     },
     "execution_count": 29,
     "metadata": {},
     "output_type": "execute_result"
    }
   ],
   "source": [
    "df.groupby(['Cancer de pulmon', 'Ansiedad']).size().loc[(['YES', 'NO'])]"
   ]
  },
  {
   "cell_type": "code",
   "execution_count": 30,
   "id": "55a9ae49-088b-4071-8011-6f112fc1343e",
   "metadata": {},
   "outputs": [
    {
     "data": {
      "text/plain": [
       "Cancer de pulmon  Sibilancias\n",
       "YES               1              2506\n",
       "                  2              2552\n",
       "NO                1              2465\n",
       "                  2              2460\n",
       "                  G                 1\n",
       "dtype: int64"
      ]
     },
     "execution_count": 30,
     "metadata": {},
     "output_type": "execute_result"
    }
   ],
   "source": [
    "df.groupby(['Cancer de pulmon', 'Sibilancias']).size().loc[(['YES', 'NO'])]"
   ]
  },
  {
   "cell_type": "code",
   "execution_count": 31,
   "id": "ba5eb96b-fa72-4610-9093-62cd29a8a161",
   "metadata": {},
   "outputs": [
    {
     "data": {
      "text/plain": [
       "Cancer de pulmon  Fumador\n",
       "YES               1.0        2518\n",
       "                  2.0        2542\n",
       "NO                1.0        2427\n",
       "                  2.0        2499\n",
       "dtype: int64"
      ]
     },
     "execution_count": 31,
     "metadata": {},
     "output_type": "execute_result"
    }
   ],
   "source": [
    "df.groupby(['Cancer de pulmon', 'Fumador']).size().loc[(['YES', 'NO'])]"
   ]
  },
  {
   "cell_type": "code",
   "execution_count": 32,
   "id": "7a0589a8-7ee9-4f20-92c8-72f80e48197f",
   "metadata": {},
   "outputs": [
    {
     "data": {
      "text/plain": [
       "Cancer de pulmon  presion de grupo\n",
       "YES               1.0                 2516\n",
       "                  2.0                 2544\n",
       "NO                1.0                 2417\n",
       "                  2.0                 2508\n",
       "dtype: int64"
      ]
     },
     "execution_count": 32,
     "metadata": {},
     "output_type": "execute_result"
    }
   ],
   "source": [
    "df.groupby(['Cancer de pulmon', 'presion de grupo']).size().loc[(['YES', 'NO'])]"
   ]
  },
  {
   "cell_type": "markdown",
   "id": "e411c055-edda-4d52-96f4-90f0c941bfc7",
   "metadata": {},
   "source": [
    "Se hace un análisis de cada una de esas variables, pero no se ve ningún patrón entre ellas y el tener o no cáncer de pulmón. "
   ]
  },
  {
   "cell_type": "markdown",
   "id": "1f359735-d964-46ef-aa09-c21d08533cc3",
   "metadata": {},
   "source": [
    "# **3. Limpieza de datos**"
   ]
  },
  {
   "cell_type": "markdown",
   "id": "3eb22d15-10c4-4bfb-a848-cf3dec74b4b1",
   "metadata": {},
   "source": [
    "Todas las variables con datos faltantes se van a llenar con su promedio."
   ]
  },
  {
   "cell_type": "code",
   "execution_count": 33,
   "id": "7e241845-8e49-445a-8e9e-7a5025ce98b1",
   "metadata": {},
   "outputs": [],
   "source": [
    "df['Edad'] = df['Edad'].replace('[^0-9]', '29', regex = True)\n",
    "df['Edad'].fillna('29', inplace = True)\n",
    "df['Edad'] = df['Edad'].astype(int)"
   ]
  },
  {
   "cell_type": "code",
   "execution_count": 34,
   "id": "3aa32ba5-16b0-4dde-8730-aa94d0dd91ab",
   "metadata": {},
   "outputs": [],
   "source": [
    "df['Fumador'].fillna(2, inplace = True)\n",
    "df['Fumador'] = df['Fumador'].astype(int)"
   ]
  },
  {
   "cell_type": "code",
   "execution_count": 35,
   "id": "07091612-0525-453a-9057-a1c08619f82b",
   "metadata": {},
   "outputs": [],
   "source": [
    "df['dedos amarillos'] = df['dedos amarillos'].replace('[^12]', '1', regex=True)\n",
    "df['dedos amarillos'].fillna('1', inplace = True)\n",
    "df['dedos amarillos'] = df['dedos amarillos'].astype(int)"
   ]
  },
  {
   "cell_type": "code",
   "execution_count": 36,
   "id": "8879f7e6-be0e-497a-a421-d19826848b6d",
   "metadata": {},
   "outputs": [],
   "source": [
    "df['Ansiedad'] = df['Ansiedad'].replace('[^12]', '2', regex=True)\n",
    "df['Ansiedad'].fillna('2', inplace = True)\n",
    "df['Ansiedad'] = df['Ansiedad'].astype(int)"
   ]
  },
  {
   "cell_type": "code",
   "execution_count": 37,
   "id": "f494bffc-596d-4408-996b-c189ae3e8345",
   "metadata": {},
   "outputs": [],
   "source": [
    "df['presion de grupo'].fillna(2, inplace = True)\n",
    "df['presion de grupo'] = df['presion de grupo'].astype(int)"
   ]
  },
  {
   "cell_type": "code",
   "execution_count": 38,
   "id": "93ba039e-6c38-493e-a0b5-1e75978f2882",
   "metadata": {},
   "outputs": [],
   "source": [
    "df['enfermedad cronica'].fillna(1, inplace = True)\n",
    "df['enfermedad cronica'] = df['enfermedad cronica'].astype(int)"
   ]
  },
  {
   "cell_type": "code",
   "execution_count": 39,
   "id": "d7f44e9d-a02a-4379-9dc7-7ae0fceeff86",
   "metadata": {},
   "outputs": [],
   "source": [
    "df['fatiga'] = df['fatiga'].replace('[^12]', '1', regex = True)\n",
    "df['fatiga'] = df['fatiga'].replace('[3-9]', '1', inplace = True)\n",
    "df['fatiga'].fillna('1', inplace = True)\n",
    "df['fatiga'] = df['fatiga'].astype(int)"
   ]
  },
  {
   "cell_type": "code",
   "execution_count": 40,
   "id": "691ce1ae-3ef7-4a5e-8309-0545b7c11905",
   "metadata": {},
   "outputs": [],
   "source": [
    "df['Alergia'] = df['Alergia'].replace('[^12]', '1', regex=True)\n",
    "df['Alergia'].fillna('1', inplace = True)\n",
    "df['Alergia'] = df['Alergia'].astype(int)"
   ]
  },
  {
   "cell_type": "code",
   "execution_count": 41,
   "id": "1ae9022f-e945-4672-a296-eb98b0446a72",
   "metadata": {},
   "outputs": [],
   "source": [
    "df['Sibilancias'] = df['Sibilancias'].replace('[^12]', '2', regex=True)\n",
    "df['Sibilancias'].fillna('2', inplace = True)\n",
    "df['Sibilancias'] = df['Sibilancias'].astype(int)"
   ]
  },
  {
   "cell_type": "code",
   "execution_count": 44,
   "id": "ae8d8a18-cb11-4ac2-bf66-cb5e51353fb2",
   "metadata": {},
   "outputs": [],
   "source": [
    "df['Consumo Alcohol'].fillna(1, inplace = True)\n",
    "df['Consumo Alcohol'] = df['Consumo Alcohol'].astype(int)"
   ]
  },
  {
   "cell_type": "code",
   "execution_count": 45,
   "id": "071e5d3a-ea65-4b26-b5b4-f309b40ee963",
   "metadata": {},
   "outputs": [],
   "source": [
    "df['Tos'].fillna(1, inplace = True)\n",
    "df['Tos'] = df['Tos'].astype(int)"
   ]
  },
  {
   "cell_type": "code",
   "execution_count": 46,
   "id": "c267e764-ff01-4eef-972b-8c161e843a1c",
   "metadata": {},
   "outputs": [],
   "source": [
    "df['Dificultad respirar'].fillna(1, inplace = True)\n",
    "df['Dificultad respirar'] = df['Dificultad respirar'].astype(int)"
   ]
  },
  {
   "cell_type": "code",
   "execution_count": 47,
   "id": "78510fa9-4d28-480d-9680-a9154f2a820a",
   "metadata": {},
   "outputs": [],
   "source": [
    "df['Dificultad tragar'].fillna(1, inplace = True)\n",
    "df['Dificultad tragar'] = df['Dificultad tragar'].astype(int)"
   ]
  },
  {
   "cell_type": "code",
   "execution_count": 48,
   "id": "82e1c22b-b4d2-49a1-af34-ece377b01ff6",
   "metadata": {},
   "outputs": [],
   "source": [
    "df['Dolor en pecho'] = df['Dolor en pecho'].replace('[^12]', '1', regex=True)\n",
    "df['Dolor en pecho'] = df['Dolor en pecho'].astype(int)"
   ]
  },
  {
   "cell_type": "code",
   "execution_count": 49,
   "id": "08b8a087-70af-44e6-8c1e-5a685a082831",
   "metadata": {},
   "outputs": [],
   "source": [
    "df['Cancer de pulmon'] = df['Cancer de pulmon'].replace({'^yes|si$': 'YES', '[.?]': 'YES', '^no?t?$': 'NO'}, regex=True)"
   ]
  },
  {
   "cell_type": "code",
   "execution_count": 50,
   "id": "e8267718-d282-4b31-900b-59204f2cc03f",
   "metadata": {},
   "outputs": [
    {
     "data": {
      "text/plain": [
       "29"
      ]
     },
     "execution_count": 50,
     "metadata": {},
     "output_type": "execute_result"
    }
   ],
   "source": [
    "df['Edad'].mode()[0]"
   ]
  },
  {
   "cell_type": "code",
   "execution_count": 51,
   "id": "7634a114-d10b-4da3-a5de-24d3a1619898",
   "metadata": {},
   "outputs": [
    {
     "data": {
      "text/plain": [
       "Cancer de pulmon\n",
       "NO     4931\n",
       "YES    5069\n",
       "Name: Cancer de pulmon, dtype: int64"
      ]
     },
     "execution_count": 51,
     "metadata": {},
     "output_type": "execute_result"
    }
   ],
   "source": [
    "df['Cancer de pulmon'].groupby(df['Cancer de pulmon']).count()"
   ]
  },
  {
   "cell_type": "code",
   "execution_count": 52,
   "id": "afd2161b-03c6-475e-9db0-658366cbc7b3",
   "metadata": {},
   "outputs": [],
   "source": [
    "df['Sexo'] = df['Sexo'].replace('C', 'M')\n",
    "df['Sexo'].fillna('M', inplace = True)"
   ]
  },
  {
   "cell_type": "code",
   "execution_count": 53,
   "id": "301aa472-6e23-49cf-9d9f-50de331ee355",
   "metadata": {},
   "outputs": [
    {
     "name": "stdout",
     "output_type": "stream",
     "text": [
      "<class 'pandas.core.frame.DataFrame'>\n",
      "RangeIndex: 10000 entries, 0 to 9999\n",
      "Data columns (total 16 columns):\n",
      " #   Column               Non-Null Count  Dtype \n",
      "---  ------               --------------  ----- \n",
      " 0   Sexo                 10000 non-null  object\n",
      " 1   Edad                 10000 non-null  int32 \n",
      " 2   Fumador              10000 non-null  int32 \n",
      " 3   dedos amarillos      10000 non-null  int32 \n",
      " 4   Ansiedad             10000 non-null  int32 \n",
      " 5   presion de grupo     10000 non-null  int32 \n",
      " 6   enfermedad cronica   10000 non-null  int32 \n",
      " 7   fatiga               10000 non-null  int32 \n",
      " 8   Alergia              10000 non-null  int32 \n",
      " 9   Sibilancias          10000 non-null  int32 \n",
      " 10  Consumo Alcohol      10000 non-null  int32 \n",
      " 11  Tos                  10000 non-null  int32 \n",
      " 12  Dificultad respirar  10000 non-null  int32 \n",
      " 13  Dificultad tragar    10000 non-null  int32 \n",
      " 14  Dolor en pecho       10000 non-null  int32 \n",
      " 15  Cancer de pulmon     10000 non-null  object\n",
      "dtypes: int32(14), object(2)\n",
      "memory usage: 703.3+ KB\n"
     ]
    }
   ],
   "source": [
    "df.info()"
   ]
  },
  {
   "cell_type": "code",
   "execution_count": 54,
   "id": "5bf72a16-c656-44a0-9218-748aff08797f",
   "metadata": {},
   "outputs": [
    {
     "data": {
      "text/html": [
       "<div>\n",
       "<style scoped>\n",
       "    .dataframe tbody tr th:only-of-type {\n",
       "        vertical-align: middle;\n",
       "    }\n",
       "\n",
       "    .dataframe tbody tr th {\n",
       "        vertical-align: top;\n",
       "    }\n",
       "\n",
       "    .dataframe thead th {\n",
       "        text-align: right;\n",
       "    }\n",
       "</style>\n",
       "<table border=\"1\" class=\"dataframe\">\n",
       "  <thead>\n",
       "    <tr style=\"text-align: right;\">\n",
       "      <th></th>\n",
       "      <th>Edad</th>\n",
       "      <th>Fumador</th>\n",
       "      <th>dedos amarillos</th>\n",
       "      <th>Ansiedad</th>\n",
       "      <th>presion de grupo</th>\n",
       "      <th>enfermedad cronica</th>\n",
       "      <th>fatiga</th>\n",
       "      <th>Alergia</th>\n",
       "      <th>Sibilancias</th>\n",
       "      <th>Consumo Alcohol</th>\n",
       "      <th>Tos</th>\n",
       "      <th>Dificultad respirar</th>\n",
       "      <th>Dificultad tragar</th>\n",
       "      <th>Dolor en pecho</th>\n",
       "    </tr>\n",
       "  </thead>\n",
       "  <tbody>\n",
       "    <tr>\n",
       "      <th>count</th>\n",
       "      <td>10000.000000</td>\n",
       "      <td>10000.000</td>\n",
       "      <td>10000.000000</td>\n",
       "      <td>10000.000000</td>\n",
       "      <td>10000.000000</td>\n",
       "      <td>10000.000000</td>\n",
       "      <td>10000.0</td>\n",
       "      <td>10000.000000</td>\n",
       "      <td>10000.000000</td>\n",
       "      <td>10000.000000</td>\n",
       "      <td>10000.000000</td>\n",
       "      <td>10000.000000</td>\n",
       "      <td>10000.000000</td>\n",
       "      <td>10000.000000</td>\n",
       "    </tr>\n",
       "    <tr>\n",
       "      <th>mean</th>\n",
       "      <td>54.119800</td>\n",
       "      <td>1.505</td>\n",
       "      <td>1.495100</td>\n",
       "      <td>1.501800</td>\n",
       "      <td>1.506300</td>\n",
       "      <td>1.497900</td>\n",
       "      <td>1.0</td>\n",
       "      <td>1.495100</td>\n",
       "      <td>1.502100</td>\n",
       "      <td>1.496000</td>\n",
       "      <td>1.497400</td>\n",
       "      <td>1.499000</td>\n",
       "      <td>1.498100</td>\n",
       "      <td>1.493100</td>\n",
       "    </tr>\n",
       "    <tr>\n",
       "      <th>std</th>\n",
       "      <td>21.107402</td>\n",
       "      <td>0.500</td>\n",
       "      <td>0.500001</td>\n",
       "      <td>0.500022</td>\n",
       "      <td>0.499985</td>\n",
       "      <td>0.500021</td>\n",
       "      <td>0.0</td>\n",
       "      <td>0.500001</td>\n",
       "      <td>0.500021</td>\n",
       "      <td>0.500009</td>\n",
       "      <td>0.500018</td>\n",
       "      <td>0.500024</td>\n",
       "      <td>0.500021</td>\n",
       "      <td>0.499977</td>\n",
       "    </tr>\n",
       "    <tr>\n",
       "      <th>min</th>\n",
       "      <td>18.000000</td>\n",
       "      <td>1.000</td>\n",
       "      <td>1.000000</td>\n",
       "      <td>1.000000</td>\n",
       "      <td>1.000000</td>\n",
       "      <td>1.000000</td>\n",
       "      <td>1.0</td>\n",
       "      <td>1.000000</td>\n",
       "      <td>1.000000</td>\n",
       "      <td>1.000000</td>\n",
       "      <td>1.000000</td>\n",
       "      <td>1.000000</td>\n",
       "      <td>1.000000</td>\n",
       "      <td>1.000000</td>\n",
       "    </tr>\n",
       "    <tr>\n",
       "      <th>25%</th>\n",
       "      <td>36.000000</td>\n",
       "      <td>1.000</td>\n",
       "      <td>1.000000</td>\n",
       "      <td>1.000000</td>\n",
       "      <td>1.000000</td>\n",
       "      <td>1.000000</td>\n",
       "      <td>1.0</td>\n",
       "      <td>1.000000</td>\n",
       "      <td>1.000000</td>\n",
       "      <td>1.000000</td>\n",
       "      <td>1.000000</td>\n",
       "      <td>1.000000</td>\n",
       "      <td>1.000000</td>\n",
       "      <td>1.000000</td>\n",
       "    </tr>\n",
       "    <tr>\n",
       "      <th>50%</th>\n",
       "      <td>54.000000</td>\n",
       "      <td>2.000</td>\n",
       "      <td>1.000000</td>\n",
       "      <td>2.000000</td>\n",
       "      <td>2.000000</td>\n",
       "      <td>1.000000</td>\n",
       "      <td>1.0</td>\n",
       "      <td>1.000000</td>\n",
       "      <td>2.000000</td>\n",
       "      <td>1.000000</td>\n",
       "      <td>1.000000</td>\n",
       "      <td>1.000000</td>\n",
       "      <td>1.000000</td>\n",
       "      <td>1.000000</td>\n",
       "    </tr>\n",
       "    <tr>\n",
       "      <th>75%</th>\n",
       "      <td>72.000000</td>\n",
       "      <td>2.000</td>\n",
       "      <td>2.000000</td>\n",
       "      <td>2.000000</td>\n",
       "      <td>2.000000</td>\n",
       "      <td>2.000000</td>\n",
       "      <td>1.0</td>\n",
       "      <td>2.000000</td>\n",
       "      <td>2.000000</td>\n",
       "      <td>2.000000</td>\n",
       "      <td>2.000000</td>\n",
       "      <td>2.000000</td>\n",
       "      <td>2.000000</td>\n",
       "      <td>2.000000</td>\n",
       "    </tr>\n",
       "    <tr>\n",
       "      <th>max</th>\n",
       "      <td>90.000000</td>\n",
       "      <td>2.000</td>\n",
       "      <td>2.000000</td>\n",
       "      <td>2.000000</td>\n",
       "      <td>2.000000</td>\n",
       "      <td>2.000000</td>\n",
       "      <td>1.0</td>\n",
       "      <td>2.000000</td>\n",
       "      <td>2.000000</td>\n",
       "      <td>2.000000</td>\n",
       "      <td>2.000000</td>\n",
       "      <td>2.000000</td>\n",
       "      <td>2.000000</td>\n",
       "      <td>2.000000</td>\n",
       "    </tr>\n",
       "  </tbody>\n",
       "</table>\n",
       "</div>"
      ],
      "text/plain": [
       "               Edad    Fumador  dedos amarillos      Ansiedad  \\\n",
       "count  10000.000000  10000.000     10000.000000  10000.000000   \n",
       "mean      54.119800      1.505         1.495100      1.501800   \n",
       "std       21.107402      0.500         0.500001      0.500022   \n",
       "min       18.000000      1.000         1.000000      1.000000   \n",
       "25%       36.000000      1.000         1.000000      1.000000   \n",
       "50%       54.000000      2.000         1.000000      2.000000   \n",
       "75%       72.000000      2.000         2.000000      2.000000   \n",
       "max       90.000000      2.000         2.000000      2.000000   \n",
       "\n",
       "       presion de grupo  enfermedad cronica   fatiga       Alergia  \\\n",
       "count      10000.000000        10000.000000  10000.0  10000.000000   \n",
       "mean           1.506300            1.497900      1.0      1.495100   \n",
       "std            0.499985            0.500021      0.0      0.500001   \n",
       "min            1.000000            1.000000      1.0      1.000000   \n",
       "25%            1.000000            1.000000      1.0      1.000000   \n",
       "50%            2.000000            1.000000      1.0      1.000000   \n",
       "75%            2.000000            2.000000      1.0      2.000000   \n",
       "max            2.000000            2.000000      1.0      2.000000   \n",
       "\n",
       "        Sibilancias  Consumo Alcohol           Tos  Dificultad respirar  \\\n",
       "count  10000.000000     10000.000000  10000.000000         10000.000000   \n",
       "mean       1.502100         1.496000      1.497400             1.499000   \n",
       "std        0.500021         0.500009      0.500018             0.500024   \n",
       "min        1.000000         1.000000      1.000000             1.000000   \n",
       "25%        1.000000         1.000000      1.000000             1.000000   \n",
       "50%        2.000000         1.000000      1.000000             1.000000   \n",
       "75%        2.000000         2.000000      2.000000             2.000000   \n",
       "max        2.000000         2.000000      2.000000             2.000000   \n",
       "\n",
       "       Dificultad tragar  Dolor en pecho  \n",
       "count       10000.000000    10000.000000  \n",
       "mean            1.498100        1.493100  \n",
       "std             0.500021        0.499977  \n",
       "min             1.000000        1.000000  \n",
       "25%             1.000000        1.000000  \n",
       "50%             1.000000        1.000000  \n",
       "75%             2.000000        2.000000  \n",
       "max             2.000000        2.000000  "
      ]
     },
     "execution_count": 54,
     "metadata": {},
     "output_type": "execute_result"
    }
   ],
   "source": [
    "df.describe()"
   ]
  },
  {
   "cell_type": "code",
   "execution_count": 55,
   "id": "3de94647-a756-418a-b6db-3d5105e99f06",
   "metadata": {},
   "outputs": [
    {
     "data": {
      "text/html": [
       "<div>\n",
       "<style scoped>\n",
       "    .dataframe tbody tr th:only-of-type {\n",
       "        vertical-align: middle;\n",
       "    }\n",
       "\n",
       "    .dataframe tbody tr th {\n",
       "        vertical-align: top;\n",
       "    }\n",
       "\n",
       "    .dataframe thead th {\n",
       "        text-align: right;\n",
       "    }\n",
       "</style>\n",
       "<table border=\"1\" class=\"dataframe\">\n",
       "  <thead>\n",
       "    <tr style=\"text-align: right;\">\n",
       "      <th></th>\n",
       "      <th>Sexo</th>\n",
       "      <th>Cancer de pulmon</th>\n",
       "    </tr>\n",
       "  </thead>\n",
       "  <tbody>\n",
       "    <tr>\n",
       "      <th>count</th>\n",
       "      <td>10000</td>\n",
       "      <td>10000</td>\n",
       "    </tr>\n",
       "    <tr>\n",
       "      <th>unique</th>\n",
       "      <td>2</td>\n",
       "      <td>2</td>\n",
       "    </tr>\n",
       "    <tr>\n",
       "      <th>top</th>\n",
       "      <td>M</td>\n",
       "      <td>YES</td>\n",
       "    </tr>\n",
       "    <tr>\n",
       "      <th>freq</th>\n",
       "      <td>5034</td>\n",
       "      <td>5069</td>\n",
       "    </tr>\n",
       "  </tbody>\n",
       "</table>\n",
       "</div>"
      ],
      "text/plain": [
       "         Sexo Cancer de pulmon\n",
       "count   10000            10000\n",
       "unique      2                2\n",
       "top         M              YES\n",
       "freq     5034             5069"
      ]
     },
     "execution_count": 55,
     "metadata": {},
     "output_type": "execute_result"
    }
   ],
   "source": [
    "df.describe(include = ['O'])"
   ]
  },
  {
   "cell_type": "markdown",
   "id": "6d6b3b8e-6ecb-4b1e-a1ae-aa3ed2f3fc1f",
   "metadata": {},
   "source": [
    "Finalmente, cambiaremos las variables de *Edad* y *Cancer de pulmon* a variables numéricas en caso de necesitarlas en ese formato en algún modelo.\n",
    "<br> **Sexo:** Femenino = 0, Masculino = 1\n",
    "<br> **Cancer de pulmon:** YES = 1, NO = 0"
   ]
  },
  {
   "cell_type": "code",
   "execution_count": 56,
   "id": "edcb019e-64f3-4c33-a649-27a7c3b0dbc0",
   "metadata": {},
   "outputs": [],
   "source": [
    "df['Sexo'] = df['Sexo'].map({'M': 1, 'F': 0}).astype(int)\n",
    "df['Cancer de pulmon'] = df['Cancer de pulmon'].map({'YES': 1, 'NO': 0}).astype(int)"
   ]
  },
  {
   "cell_type": "code",
   "execution_count": 57,
   "id": "1e963642-cd4f-4873-9130-1cd6e920b881",
   "metadata": {},
   "outputs": [
    {
     "name": "stdout",
     "output_type": "stream",
     "text": [
      "<class 'pandas.core.frame.DataFrame'>\n",
      "RangeIndex: 10000 entries, 0 to 9999\n",
      "Data columns (total 2 columns):\n",
      " #   Column            Non-Null Count  Dtype\n",
      "---  ------            --------------  -----\n",
      " 0   Sexo              10000 non-null  int32\n",
      " 1   Cancer de pulmon  10000 non-null  int32\n",
      "dtypes: int32(2)\n",
      "memory usage: 78.3 KB\n"
     ]
    }
   ],
   "source": [
    "df[['Sexo', 'Cancer de pulmon']].info()"
   ]
  },
  {
   "cell_type": "code",
   "execution_count": 58,
   "id": "0747ff3f-a839-4766-813e-ad411d342547",
   "metadata": {},
   "outputs": [
    {
     "data": {
      "text/html": [
       "<div>\n",
       "<style scoped>\n",
       "    .dataframe tbody tr th:only-of-type {\n",
       "        vertical-align: middle;\n",
       "    }\n",
       "\n",
       "    .dataframe tbody tr th {\n",
       "        vertical-align: top;\n",
       "    }\n",
       "\n",
       "    .dataframe thead th {\n",
       "        text-align: right;\n",
       "    }\n",
       "</style>\n",
       "<table border=\"1\" class=\"dataframe\">\n",
       "  <thead>\n",
       "    <tr style=\"text-align: right;\">\n",
       "      <th></th>\n",
       "      <th>Sexo</th>\n",
       "      <th>Cancer de pulmon</th>\n",
       "    </tr>\n",
       "  </thead>\n",
       "  <tbody>\n",
       "    <tr>\n",
       "      <th>0</th>\n",
       "      <td>1</td>\n",
       "      <td>1</td>\n",
       "    </tr>\n",
       "    <tr>\n",
       "      <th>1</th>\n",
       "      <td>1</td>\n",
       "      <td>1</td>\n",
       "    </tr>\n",
       "    <tr>\n",
       "      <th>2</th>\n",
       "      <td>1</td>\n",
       "      <td>1</td>\n",
       "    </tr>\n",
       "    <tr>\n",
       "      <th>3</th>\n",
       "      <td>1</td>\n",
       "      <td>0</td>\n",
       "    </tr>\n",
       "    <tr>\n",
       "      <th>4</th>\n",
       "      <td>1</td>\n",
       "      <td>1</td>\n",
       "    </tr>\n",
       "  </tbody>\n",
       "</table>\n",
       "</div>"
      ],
      "text/plain": [
       "   Sexo  Cancer de pulmon\n",
       "0     1                 1\n",
       "1     1                 1\n",
       "2     1                 1\n",
       "3     1                 0\n",
       "4     1                 1"
      ]
     },
     "execution_count": 58,
     "metadata": {},
     "output_type": "execute_result"
    }
   ],
   "source": [
    "df[['Sexo', 'Cancer de pulmon']].head(5)"
   ]
  },
  {
   "cell_type": "code",
   "execution_count": 59,
   "id": "7df7132c-7b40-4434-9c6d-e91eda0e5cc4",
   "metadata": {},
   "outputs": [
    {
     "data": {
      "text/html": [
       "<div>\n",
       "<style scoped>\n",
       "    .dataframe tbody tr th:only-of-type {\n",
       "        vertical-align: middle;\n",
       "    }\n",
       "\n",
       "    .dataframe tbody tr th {\n",
       "        vertical-align: top;\n",
       "    }\n",
       "\n",
       "    .dataframe thead th {\n",
       "        text-align: right;\n",
       "    }\n",
       "</style>\n",
       "<table border=\"1\" class=\"dataframe\">\n",
       "  <thead>\n",
       "    <tr style=\"text-align: right;\">\n",
       "      <th></th>\n",
       "      <th>Sexo</th>\n",
       "      <th>Cancer de pulmon</th>\n",
       "    </tr>\n",
       "  </thead>\n",
       "  <tbody>\n",
       "    <tr>\n",
       "      <th>9995</th>\n",
       "      <td>0</td>\n",
       "      <td>0</td>\n",
       "    </tr>\n",
       "    <tr>\n",
       "      <th>9996</th>\n",
       "      <td>1</td>\n",
       "      <td>1</td>\n",
       "    </tr>\n",
       "    <tr>\n",
       "      <th>9997</th>\n",
       "      <td>0</td>\n",
       "      <td>0</td>\n",
       "    </tr>\n",
       "    <tr>\n",
       "      <th>9998</th>\n",
       "      <td>0</td>\n",
       "      <td>0</td>\n",
       "    </tr>\n",
       "    <tr>\n",
       "      <th>9999</th>\n",
       "      <td>1</td>\n",
       "      <td>1</td>\n",
       "    </tr>\n",
       "  </tbody>\n",
       "</table>\n",
       "</div>"
      ],
      "text/plain": [
       "      Sexo  Cancer de pulmon\n",
       "9995     0                 0\n",
       "9996     1                 1\n",
       "9997     0                 0\n",
       "9998     0                 0\n",
       "9999     1                 1"
      ]
     },
     "execution_count": 59,
     "metadata": {},
     "output_type": "execute_result"
    }
   ],
   "source": [
    "df[['Sexo', 'Cancer de pulmon']].tail(5)"
   ]
  },
  {
   "cell_type": "code",
   "execution_count": 623,
   "id": "4103beaf-5a4b-4d6b-b8a0-c9972d6da5b8",
   "metadata": {},
   "outputs": [],
   "source": [
    "df.to_csv('respuestas_cleaned.csv', index = False)"
   ]
  },
  {
   "cell_type": "markdown",
   "id": "936be813-8ed0-409b-855f-6b058eeac3c5",
   "metadata": {},
   "source": [
    "Finalmente, se agregará un reporte de la librería de pandas_profiling para un análisis más rápido del dataframe final."
   ]
  }
 ],
 "metadata": {
  "kernelspec": {
   "display_name": "Python 3 (ipykernel)",
   "language": "python",
   "name": "python3"
  },
  "language_info": {
   "codemirror_mode": {
    "name": "ipython",
    "version": 3
   },
   "file_extension": ".py",
   "mimetype": "text/x-python",
   "name": "python",
   "nbconvert_exporter": "python",
   "pygments_lexer": "ipython3",
   "version": "3.11.7"
  }
 },
 "nbformat": 4,
 "nbformat_minor": 5
}
